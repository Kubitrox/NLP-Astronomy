{
 "cells": [
  {
   "cell_type": "code",
   "execution_count": 1,
   "metadata": {},
   "outputs": [],
   "source": [
    "from transformers import AutoTokenizer, AutoModelForTokenClassification,AutoModelForCausalLM\n",
    "from transformers import pipeline\n",
    "import torch\n",
    "from spacy.training import Example\n",
    "import spacy\n",
    "from collections import Counter\n",
    "from nltk.util import ngrams"
   ]
  },
  {
   "cell_type": "markdown",
   "metadata": {},
   "source": [
    "## Fine tuning data"
   ]
  },
  {
   "cell_type": "code",
   "execution_count": 189,
   "metadata": {},
   "outputs": [
    {
     "name": "stdout",
     "output_type": "stream",
     "text": [
      "('During certain seasons, venus is best observed from big bend national park.', {'entities': [(52, 74, 'LOC'), (24, 29, 'Astro_Obj')]})\n",
      "('Photographers set up telescopes at uluru to capture venus.', {'entities': [(35, 40, 'LOC'), (52, 57, 'Astro_Obj')]})\n",
      "('mauna loa provides an unobstructed horizon for photographing supernova remnant.', {'entities': [(0, 9, 'LOC'), (61, 78, 'Astro_Obj')]})\n",
      "('Many stargazers prefer uluru for its clear views of supernova remnant.', {'entities': [(23, 28, 'LOC'), (52, 69, 'Astro_Obj')]})\n",
      "('The observatory at lake tekapo offers public viewing nights for pleiades star cluster.', {'entities': [(19, 30, 'LOC'), (64, 85, 'Astro_Obj')]})\n"
     ]
    }
   ],
   "source": [
    "import random\n",
    "\n",
    "class AstroNERDataset:\n",
    "    def __init__(self):\n",
    "        self.templates = [\n",
    "            \"Astrophotographers often visit {location} to capture images of {astro_object}.\",\n",
    "            \"The {astro_object} appears exceptionally bright when viewed from {location}.\",\n",
    "            \"During certain seasons, {astro_object} is best observed from {location}.\",\n",
    "            \"Many stargazers prefer {location} for its clear views of {astro_object}.\",\n",
    "            \"{location} provides an unobstructed horizon for photographing {astro_object}.\",\n",
    "            \"The altitude of {location} makes it ideal for observing {astro_object}.\",\n",
    "            \"Photographers set up telescopes at {location} to capture {astro_object}.\",\n",
    "            \"The lack of light pollution at {location} enhances views of {astro_object}.\",\n",
    "            \"Guided tours at {location} offer night sky observations of {astro_object}.\",\n",
    "            \"The {astro_object} was clearly visible above the horizon at {location}.\",\n",
    "            \"Astro enthusiasts recommend {location} for its dark skies and view of {astro_object}.\",\n",
    "            \"The remote location of {location} makes it perfect for {astro_object} photography.\",\n",
    "            \"Star parties at {location} often focus on observing {astro_object}.\",\n",
    "            \"The clear atmosphere at {location} provides stunning views of {astro_object}.\",\n",
    "            \"From {location}, the {astro_object} can be seen with the naked eye.\",\n",
    "            \"The observatory at {location} offers public viewing nights for {astro_object}.\",\n",
    "            \"Camping at {location} allows for overnight observation of {astro_object}.\",\n",
    "            \"The {astro_object} rises early in the morning as seen from {location}.\",\n",
    "            \"Astrophotography workshops at {location} teach how to capture {astro_object}.\",\n",
    "            '{location} is the number 1 spot for {astro_object} viewing.',\n",
    "        ]\n",
    "\n",
    "        self.locations = [\n",
    "            \"Mauna Kea\", \"Atacama\", \"Atacama Desert\", \"Mauna Loa\", \"Death Valley\", \n",
    "            \"Mont Mégantic\", \"Pic du Midi\", \"Lake Tekapo\", \"Okavango Delta\", \n",
    "            \"Himalayas\", \"Cerro Paranal\", \"Uluru\", \"Big Bend National Park\", \n",
    "            \"Lick Observatory\", \"Lowell Observatory\", \"Meteora in Greece\", \n",
    "            \"Arcetri Astrophysical Observatory\", \"Kitt Peak\"\n",
    "        ]\n",
    "        self.locations = [location.lower() for location in self.locations]\n",
    "\n",
    "        self.astro_objects = [\n",
    "            \"Milky Way\", \"Andromeda Galaxy\", \"Orion Nebula\", \"Pleiades Star Cluster\", \n",
    "            \"Saturn's Rings\", \"Halley's Comet\", \"Perseid Meteor Shower\", \"Aurora Borealis\", \n",
    "            \"Venus\", \"Mars\", \"Supernova Remnant\", \"Black Hole\", \n",
    "            \"Exoplanet Kepler-22b\", \"Horsehead Nebula\", \"Crab Nebula\", \"Betelgeuse\", \n",
    "            \"Sirius\", \"Alpha Centauri\"\n",
    "        ]\n",
    "        self.astro_objects = [astro_object.lower() for astro_object in self.astro_objects]\n",
    "\n",
    "    def generate_example(self):\n",
    "        \"\"\"Generates a single labeled training example.\"\"\"\n",
    "        template = random.choice(self.templates)\n",
    "        location = random.choice(self.locations)\n",
    "        astro_object = random.choice(self.astro_objects)\n",
    "        \n",
    "        # Ensure both location and astro_object are in lowercase\n",
    "        sentence = template.format(location=location, astro_object=astro_object)\n",
    "        \n",
    "        # Ensure formatting consistency and case-sensitivity\n",
    "        location_start = sentence.find(location)\n",
    "        location_end = location_start + len(location)\n",
    "        \n",
    "        Obj_start = sentence.find(astro_object)\n",
    "        Obj_end = Obj_start + len(astro_object) if Obj_start != -1 else -1\n",
    "        \n",
    "        # If the astro_object is not found, we can print it for debugging purposes\n",
    "        if Obj_start == -1:\n",
    "            print(f\"Error: {astro_object} not found in the sentence: {sentence}\")\n",
    "        \n",
    "        return (sentence, {\"entities\": [(location_start, location_end, \"LOC\"), (Obj_start, Obj_end, \"Astro_Obj\")]} if Obj_start != -1 else None)\n",
    "\n",
    "    def generate_dataset(self, size=500):\n",
    "        \"\"\"Generates a dataset with the specified number of examples.\"\"\"\n",
    "        dataset = [self.generate_example() for _ in range(size)]\n",
    "        return dataset\n",
    "\n",
    "# Create the dataset\n",
    "astro_dataset = AstroNERDataset()\n",
    "train_data = astro_dataset.generate_dataset(size=500)\n",
    "\n",
    "# Preview a few examples\n",
    "for example in train_data[:5]:\n",
    "    print(example)\n"
   ]
  },
  {
   "cell_type": "code",
   "execution_count": null,
   "metadata": {},
   "outputs": [],
   "source": []
  },
  {
   "cell_type": "markdown",
   "metadata": {},
   "source": [
    "## Spacy"
   ]
  },
  {
   "cell_type": "code",
   "execution_count": 239,
   "metadata": {},
   "outputs": [
    {
     "name": "stdout",
     "output_type": "stream",
     "text": [
      "('Astro_Obj', 'CARDINAL', 'DATE', 'EVENT', 'FAC', 'GPE', 'LANGUAGE', 'LAW', 'LOC', 'MONEY', 'NORP', 'ORDINAL', 'ORG', 'PERCENT', 'PERSON', 'PRODUCT', 'QUANTITY', 'TIME', 'WORK_OF_ART')\n",
      "('Astro_Obj', 'LOC')\n"
     ]
    }
   ],
   "source": [
    "from spacy.pipeline import EntityRuler\n",
    "# Load the base model\n",
    "model = spacy.load(\"en_core_web_sm\")\n",
    "ner = model.get_pipe(\"ner\")\n",
    "\n",
    "ner.add_label(\"Astro_Obj\")  # Add the label if not already present\n",
    "print(ner.labels)\n",
    "ruler = model.add_pipe(\"entity_ruler\", before=\"ner\")\n",
    "patterns = [{\"label\": \"LOC\", \"pattern\": \"atacama\"},{\"label\": \"Astro_Obj\", \"pattern\": \"the moon\"},{\"label\": \"Astro_Obj\", \"pattern\": \"jupiter\"},{\"label\": \"Astro_Obj\", \"pattern\": \"earth\"}]\n",
    "ruler.add_patterns(patterns)\n",
    "print(ruler.labels)"
   ]
  },
  {
   "cell_type": "code",
   "execution_count": 240,
   "metadata": {},
   "outputs": [],
   "source": [
    "def fine_tune(model,train_data):# Convert to spaCy's Example objects\n",
    "    examples = [Example.from_dict(model.make_doc(text), ann) for text, ann in train_data]\n",
    "\n",
    "    # Fine-tune the model\n",
    "    optimizer = model.resume_training()\n",
    "    for epoch in range(7):\n",
    "        losses = {}\n",
    "        model.update(examples, drop=0.3, losses=losses)\n",
    "fine_tune(model,train_data)"
   ]
  },
  {
   "cell_type": "code",
   "execution_count": 241,
   "metadata": {},
   "outputs": [],
   "source": [
    "# Save the fine-tuned model\n",
    "model.to_disk(\"fine_tuned_astro_ner\")"
   ]
  },
  {
   "cell_type": "code",
   "execution_count": 242,
   "metadata": {},
   "outputs": [],
   "source": [
    "tokens = [\n",
    "    \"The\", \"Mauna\", \"Kea\", \"Observatory\", \"in\", \"Hawaii\", \"offers\", \"unparalleled\", \"views\", \"of\", \"the\", \"Milky\", \"Way\", \"due\", \"to\", \"its\", \"high\", \"altitude\", \"and\", \"clear\", \"skies\", \".\",\n",
    "    \"The\", \"Atacama\", \"Desert\", \"in\", \"Chile\", \"is\", \"one\", \"of\", \"the\", \"best\", \"places\", \"on\", \"Earth\", \"for\", \"stargazing\", \",\", \"thanks\", \"to\", \"its\", \"dry\", \"climate\", \"and\", \"minimal\", \"light\", \"pollution\", \".\",\n",
    "    \"Photographers\", \"love\", \"capturing\", \"the\", \"Aurora\", \"Borealis\", \"from\", \"Tromsø\", \",\", \"Norway\", \",\", \"especially\", \"during\", \"the\", \"winter\", \"months\", \"when\", \"the\", \"lights\", \"are\", \"most\", \"vivid\", \".\",\n",
    "    \"The\", \"Namib\", \"Desert\", \"in\", \"Namibia\", \"provides\", \"a\", \"spectacular\", \"view\", \"of\", \"the\", \"Southern\", \"Hemisphere\", \"'s\", \"stars\", \",\", \"with\", \"almost\", \"no\", \"artificial\", \"light\", \"interference\", \".\",\n",
    "    \"The\", \"Canary\", \"Islands\", \"are\", \"popular\", \"for\", \"astrophotography\", \",\", \"especially\", \"at\", \"the\", \"Roque\", \"de\", \"los\", \"Muchachos\", \"Observatory\", \"on\", \"La\", \"Palma\", \".\",\n",
    "    \"Utah\", \"'s\", \"Bryce\", \"Canyon\", \"National\", \"Park\", \"is\", \"a\", \"favorite\", \"for\", \"night\", \"photography\", \",\", \"offering\", \"some\", \"of\", \"the\", \"darkest\", \"skies\", \"in\", \"the\", \"United\", \"States\", \".\",\n",
    "    \"The\", \"Dark\", \"Sky\", \"Park\", \"in\", \"Cherry\", \"Springs\", \"State\", \"Park\", \",\", \"Pennsylvania\", \",\", \"is\", \"renowned\", \"for\", \"its\", \"pristine\", \"night\", \"skies\", \"and\", \"excellent\", \"stargazing\", \"opportunities\", \".\",\n",
    "    \"Mount\", \"Cook\", \"National\", \"Park\", \"in\", \"New\", \"Zealand\", \"is\", \"part\", \"of\", \"the\", \"Aoraki\", \"Mackenzie\", \"International\", \"Dark\", \"Sky\", \"Reserve\", \",\", \"making\", \"it\", \"a\", \"perfect\", \"spot\", \"for\", \"astrophotography\", \".\"\n",
    "]\n"
   ]
  },
  {
   "cell_type": "code",
   "execution_count": 243,
   "metadata": {},
   "outputs": [],
   "source": [
    "model_t = spacy.load(\"fine_tuned_astro_ner\")"
   ]
  },
  {
   "cell_type": "code",
   "execution_count": 244,
   "metadata": {},
   "outputs": [
    {
     "data": {
      "text/plain": [
       "0"
      ]
     },
     "execution_count": 244,
     "metadata": {},
     "output_type": "execute_result"
    }
   ],
   "source": [
    "model = spacy.load(\"en_core_web_sm\")\n",
    "ner2 = model.get_pipe(\"ner\")\n",
    "ner2.add_label(\"LOC\")  # Add the label if not already present"
   ]
  },
  {
   "cell_type": "code",
   "execution_count": 198,
   "metadata": {},
   "outputs": [
    {
     "name": "stdout",
     "output_type": "stream",
     "text": [
      "['thank', 'you', 'these', 'posts', 'inevitably', 'have', 'a', 'line', 'in', 'them', 'that', 'says', 'i', 'know', 'what', 'thing', 'looks', 'like', 'but', 'most', 'people', 'actually', 'do', 'not', 'so', 'here', 'is', 'a', 'quick', 'guide', 'to', 'what', 'they', 'usually', 'are', 'very', 'bright', 'star', 'not', 'moving', 'planet', 'typically', 'jupiter', 'or', 'venus', 'very', 'quick', 'flash', 'that', 'may', 'or', 'may', 'not', 'leave', 'a', 'momentary', 'trail', 'meteor', 'brighter', 'quick', 'flash', 'that', 'leaves', 'a', 'trail', 'that', 'may', 'last', 'several', 'seconds', 'bolide', 'faint', 'fuzzy', 'ball', 'with', 'or', 'without', 'tail', 'not', 'moving', 'appears', 'every', 'night', 'for', 'days', 'or', 'weeks', 'comet', 'anything', 'with', 'blinking', 'bits', 'aircraft', 'smoothly', 'moving', 'star', 'satellite', 'brighter', 'smoothly', 'moving', 'star', 'iss', 'star', 'that', 'brightens', 'for', 'a', 'moment', 'then', 'dims', 'again', 'satellite', 'flare', 'line', 'of', 'smoothly', 'moving', 'stars', 'satellite', 'train', 'starlink', 'launch', 'something', 'going', 'upwards', 'with', 'or', 'without', 'tail', 'rocket', 'launch', 'crazy', 'spiral', 'or', 'other', 'pattern', 'failed', 'rocket', 'launch', 'bunch', 'of', 'fiery', 'dots', 'with', 'trails', 'all', 'moving', 'together', 'rocket', 'debris', 'reentry', 'bunch', 'of', 'white', 'lights', 'in', 'formation', 'just', 'hanging', 'in', 'sky', 'sometimes', 'blinking', 'drone', 'test', 'fiery', 'burst', 'that', 'appears', 'and', 'disappears', 'randomly', 'hot', 'air', 'balloon', 'glowing', 'saucer', 'with', 'cow', 'hovering', 'beneath', 'it', 'aliens', 'south', 'carolina', 'atacama', 'is', 'a', 'great', 'location', 'for', 'photography', 'uluru', 'is', 'a', 'great', 'place', 'to', 'do', 'this', 'saw', '7', 'an', 'hour', 'also', 'only', 'watched', 'one', 'hour', 'another', 'beautiful', 'image', 'of', 'cosmic', 'proportions', 'i', 'see', 'the', 'skull', 'face', 'too', 'endless', 'wonders', 'all', 'around', 'us', 'this', 'is', 'why', 'space', 'and', 'everything', 'in', 'it', 'will', 'forever', 'have', 'endless', 'beauty', 'and', 'sights', 'that', 'draws', 'everyone', 'to', 'seek', 'what', 'else', 'lies', 'beyond', 'what', 'we', 'see', 'tnx', 'for', 'that', 'guide', 'but', 'sadly', 'the', 'object', 'i', 'saw', 'does', 'not', 'match', 'anything', 'of', 'listed', 'above', 'wow', 'skysafari', 'app', 'search', 'tonights', 'best', 'i', 'use', 'skyguide', 'but', 'i', 'will', 'check', 'it', 'out', 'andromeda', 'can', 'be', 'seen', 'from', 'florida', 'naked', 'eye', 'on', 'a', 'good', 'night', 'do', 'you', 'have', 'a', 'sky', 'app', 'on', 'your', 'phone']\n"
     ]
    }
   ],
   "source": [
    "text = \"\"\"\n",
    "thank you\n",
    "these posts inevitably have a line in them that says i know what thing looks like but most people actually do not so here is a quick guide to what they usually are very bright star not moving planet typically jupiter or venus very quick flash that may or may not leave a momentary trail meteor brighter quick flash that leaves a trail that may last several seconds bolide faint fuzzy ball with or without tail not moving appears every night for days or weeks comet anything with blinking bits aircraft smoothly moving star satellite brighter smoothly moving star iss star that brightens for a moment then dims again satellite flare line of smoothly moving stars satellite train starlink launch something going upwards with or without tail rocket launch crazy spiral or other pattern failed rocket launch bunch of fiery dots with trails all moving together rocket debris reentry bunch of white lights in formation just hanging in sky sometimes blinking drone test fiery burst that appears and disappears randomly hot air balloon glowing saucer with cow hovering beneath it aliens\n",
    "south carolina\n",
    "atacama is a great location for photography\n",
    "uluru is a great place to do this\n",
    "saw 7 an hour\n",
    "also only watched one hour\n",
    "another beautiful image of cosmic proportions\n",
    "i see the skull face too endless wonders all around us\n",
    "this is why space and everything in it will forever have endless beauty and sights that draws everyone to seek what else lies beyond what we see\n",
    "tnx for that guide but sadly the object i saw does not match anything of listed above\n",
    "wow\n",
    "skysafari app search tonights best\n",
    "i use skyguide but i will check it out\n",
    "andromeda can be seen from florida\n",
    "naked eye on a good night\n",
    "do you have a sky app on your phone\n",
    "\"\"\"\n",
    "\n",
    "# Convert the text into a list of words\n",
    "word_list = text.split()\n",
    "\n",
    "# Print the list\n",
    "print(word_list)\n"
   ]
  },
  {
   "cell_type": "code",
   "execution_count": 232,
   "metadata": {},
   "outputs": [
    {
     "name": "stdout",
     "output_type": "stream",
     "text": [
      "['trail meteor', 'air balloon', 'south carolina', 'atacama', 'uluru skysafari', 'florida']\n"
     ]
    }
   ],
   "source": [
    "\n",
    "def get_locations(model, tokens, max_tokens=2):\n",
    "    \"\"\"\n",
    "    Extract location-related entities from a list of tokens using a spaCy model,\n",
    "    with an optional limit on the number of tokens in each entity.\n",
    "    \n",
    "    Parameters:\n",
    "    - model: A spaCy language model.\n",
    "    - tokens (list): List of tokens (words) from the input text.\n",
    "    - max_tokens (int, optional): Maximum number of tokens allowed in each returned entity.\n",
    "    \n",
    "    Returns:\n",
    "    - locations (list): List of location names identified in the text, \n",
    "      each with a token count less than or equal to max_tokens.\n",
    "    \"\"\"\n",
    "    doc = model(\" \".join(tokens))\n",
    "    location_labels = {\"LOC\", \"GPE\",}\n",
    "    locations = [\n",
    "        ent.text for ent in doc.ents \n",
    "        if ent.label_ in location_labels and (max_tokens is None or len(ent) <= max_tokens)\n",
    "    ]\n",
    "    return locations\n",
    "\n",
    "\n",
    "l1 = get_locations(model_t,word_list)\n",
    "l2 = get_locations(model_t,l1)\n",
    "print(l2)"
   ]
  },
  {
   "cell_type": "code",
   "execution_count": null,
   "metadata": {},
   "outputs": [],
   "source": []
  },
  {
   "cell_type": "code",
   "execution_count": 245,
   "metadata": {},
   "outputs": [],
   "source": [
    "def process_file_s(file_path, model):\n",
    "    \"\"\"\n",
    "    Read sentences from a file and process them using spaCy's NER.\n",
    "    \n",
    "    Parameters:\n",
    "    - file_path (str): Path to the input text file.\n",
    "    - model: The spaCy NLP model.\n",
    "    \n",
    "    Returns:\n",
    "    - recomended_locs (list): List of extracted locations.\n",
    "    \"\"\"\n",
    "    i = 0\n",
    "    recomended_locs = []\n",
    "    with open(file_path, \"r\") as file:\n",
    "        lines = file.readlines()\n",
    "    \n",
    "    for line in lines:\n",
    "        sentence = line.strip()  # Remove leading/trailing whitespace\n",
    "        if sentence:  # Skip empty lines\n",
    "            \n",
    "            \n",
    "            # Tokenize the sentence into words\n",
    "            tokens = sentence.split()  # Split the sentence into tokens\n",
    "            # Extract locations\n",
    "            loc = get_locations(model, tokens)\n",
    "            if loc:  # Check if loc is not empty\n",
    "                recomended_locs.extend(loc)\n",
    "        #     i += 1  \n",
    "        # if i == 9000:\n",
    "        #     break\n",
    "    return recomended_locs\n",
    "\n",
    "\n",
    "# Example Usage: Replace 'input.txt' with your text file\n",
    "rec_loc_s0 = process_file_s(\"preprocessed_comments_sentences\",model_t)\n",
    "rec_loc_s = get_locations(model_t,rec_loc_s0)"
   ]
  },
  {
   "cell_type": "code",
   "execution_count": 255,
   "metadata": {},
   "outputs": [
    {
     "name": "stdout",
     "output_type": "stream",
     "text": [
      "['air balloon', 'south carolina', 'florida', 'jacksonville', 'georgia', 'arizona', 'cold dark', 'london', 'mass extinction', 'california', 'alaska', 'mars venera', 'mars asteroids', 'mars mass', 'mo titan', 'nasa keeps', 'mount moon', 'phd2', 'mexico', 'new wallpaper', 'faint halo', 'taba black', 'italy magellan', 'contradict themselves', 'no moon', 'new zealand', 'new epoch', 'baby beach', 'iraq', 'vermana complexes', 'sao 99805', 'previouslyunknown andor', 'systems bird', 'rgb antero', 'colorado springs', 'moon bird', 'youeiferundehre hydra', 'google sun', 'veeegaaa vega', 'google drive', 'space rock', 'lrgb cluster', 'sun xray', 'telescope knowledge', 'big dipper', 'alcor which', 'mount longer', 'arkansas', 'quantum scales', 'neil degrasse', 'lightroom mobile', 'this moon', 'france observe', 'make ursa', 'nova astrophotog', 'mars', 'india 15000', 'vortex 0249', 'astral pervs', 'astroberry canon', 'latin mode', 'google searches', 'rome', 'lrgb spain', 'heavier load', 'italy', 'egypt northeast', 'celestial nile', 'nova peek', 'cincinnati', 'autostakkert pipp', 'ww2 airstrip', 'netherlands', 'new zealand', 'capital city', 'mod ioptron', 'new zealand', 'texas min', 'beach pipp', 'sun china', 'moon lrgb', 'lrgb combination', 'lrgb combination', 'lrgb combination', 'south island', 'new zealand', 'strawberry moon', 'australia', 'moon kelvinbot', 'blue dadadeeduhduhdye', 'samsung strawberry', 'uneven width', 'historic domes', 'west point', 'colorado', 'atlantic', 'sunmoon risessets', 'moon black', 'paris', 'paris', 'massachusetts', 'the beach', 'hans zimmer', 'astroberry canon', 'denver', 'strawberry moon', 'michigan', 'maryland', 'google result', 'big city', 'atacama', 'north east', 'new zealand', 'busy city', 'dwarf galaxies', 'moon microscope', 'best dark', 'atacama', 'dwarf galaxies', 'russia', 'miniscule size', 'texas', 'california', 'stellar evolution', 'virginia skysafari', 'east florida', 'no moon', 'cigarette indiana', 'moon rocky', 'pipp single', 'cme characteristic', 'mars rock', 'mountains mars', 'titan titan', 'blue haze', 'northern sun', 'hmmm nonzero', 'chance atmosphere', 'sahara florida', 'olhao algarve', 'portugal titan', 'kinetic energy', 'british columbia', 'canada sct', 'pennsylvania dallas', 'france', 'ferrari flag', 'graham hill', 'magnetic chamois', 'toronto', 'toronto', 'arizona', 'canada', 'arizona', 'arizona', 'maunakea stewardship', 'visitor astro', 'modern astro', 'south north', 'florida', 'clearer area', 'launch providence', 'non sequitur', 'costa rica', 'finland europe', 'alaska europe', 'india', 'latin great', 'bear angiras', 'layer convert', 'arizona', 'michigan', 'work sun', 'mars venus', 'mars google', 'colorado utah', 'northern nebraska', 'town city', 'guardians callin', 'mars venus', 'hello back', 'dslr alpha', 'moon saudi', 'bst starguider', 'west sun', 'new zealand', 'minnesota', 'ohio', 'ngc7293', 'william mask', 'monster falcon', 'new zealand', 'california', 'utah', 'nova fermi', 'galactic empire', 'saudi arabia', 'las vegas', 'mars', 'gotcha luna', 'caribbean caribbean', 'caribbean caribbean', 'metallic surfaces', 'lightyears star', 'asi120mm', 'advaitmehla himachal', 'middle electromagnetic', 'france', 'morocco', 'north jersey', 'western australia', 'contos beach', 'rad beach', 'supernova aavso', 'white balace', 'ona phone', 'middle parent', 'android moon', 'costa rica', 'hydrodynamic jeans', 'escape moon', 'white dwarf', 'white dwarf', 'costa rica', 'latvia', 'middle like', 'new wallpaper', 'costa rica', 'costa rica', 'san jose', 'canada', 'aruba halle', 'bopp binyamina', 'el paso', 'mars skyquest', 'pipp autostakkert', 'minnesota canada', 'north west', 'white light', 'australia', 'red sun', 'hit wildfire', 'white shark', 'mars black', 'orbit massachusetts', 'lrgb combination', 'sun ireland', 'sputnik planum', 'magenta crater', 'hdr moon', 'germany germany', 'pacific youramdak', 'chile', 'hey zimmley', 'titan mimas', 'duluth minnesota', 'minnesota', 'pro2', 'ad10 dobsonian', 'woaah', 'arizona', 'equipment canon', 'white latex', 'moon sun', 'jovian moon', 'canada a7iii', 'apsc vs', 'new drone', 'colorado colorado', 'kentucky', 'nebraska', 'dallas', 'texas highway', 'stellar nurseries', 'nova east', 'italy', 'slovenia slovenia', 'mangart valley', 'giulia austria', 'eran como', 'pero capturar', 'aruba venezuela', 'background armslength', 'orange galaxy', 'russia microscope', 'lowell observatory', 'flagstaff arizona', 'italy hmmm', 'white galaxies', 'telescope catches', 'orange part', 'new jswt', 'white region', 'new moon', 'moon youequis76', 'job sigh', 'ultimaton single', 'bullshit youplacentaononiongravy', 'france', 'france', 'quand telescope', 'keep pursue', 'astrophysics france', 'sneak peek', 'astrociel mais', 'atlanta', 'europe germany', 'berlin west', 'london la', 'france', 'maunakea haleakala', 'hawaii passionne', 'est lunar', 'google', 'texas', 'brazil', 'india', 'netherlands', 'france', 'france', 'france', 'mauna kea', 'lowell observatory', 'min literally', 'white region', 'london', 'poland', 'oiii data', 'asi1600mmp mount', 'atacama', 'big city', 'big rocks', 'staradventurer mastdata', 'town county', 'astronomy networks', 'nova carina', 'inner region', 'spectra data', 'spectra data', 'white holes', 'white hole', 'australia', 'white holes', 'white holes', 'white holes', 'phantom astro', 'red shift', 'netherlands', 'krypton path', 'carina', 'brazil', 'washington', 'russia', 'australia', 'f200w', 'big crunch', 'cold dark', 'f070w', 'art hinterland', 'white dwarf', 'xray chandra', 'toy telescope', 'vlbi position', 'cme chinas', 'moon moon', 'gtmy rift', 'stephans quintet', 'mass concentration', 'stefans quintet', 'ultra filter', 'flats dark', 'youmattastro', 'lrgb image', 'guys bty', 'lego kubrick', 'the debris', 'nacl plasma', 'greek island', 'mars', 'california island', 'california', 'antarctica', 'washington', 'supernova black', 'mass rock', 'mars', 'aeroplane helicopter', 'deepspace venus', 'mars geostationary', 'north east', 'netherlands', 'southwest', 'netherlands', 'supernova colorado', 'rthelasaphobia github', 'marysville california', 'ummm particulars', 'leo leo', 'dragon anomaly', 'gtmy question', 'south mars', 'big bang', 'post afaik', 'washington', 'nitpicky', 'redcat71', 'linear starxterminator', 'greek island', 'histogram stretches', 'omega nebula', 'meme filter', 'lemon trivialize', 'santa cruz', 'green gradient', 'kos island', 'greece embors', 'alpha math', 'pipp autostakkert', 'hurricane ridge', 'dark angle', 'asi120mm', 'new moon', 'mount google', 'omega centauri', 'atacama', 'chile clear', 'omega centauri', 'atacama', 'ligos detection', 'mountains', 'amateur telescope', 'nova hydrogen', 'lightyears sun', 'west virginia', 'cherry springs', 'cherry springs', 'red dwarf', 'astroberry canon', 'xray starlink', 'france', 'moon astro', 'math rock', 'big rock', 'afghanistan', 'google europa', 'wlm local', 'f150w', 'mars skaneatles', 'lake accentuate', 'contrast mars', 'big bang', 'big bang', 'mars moon', 'australia', 'intro untill', 'mars pic', 'pipp as3', 'pipp as3', 'pipp as3', 'blue nebula', 'orange nebula', 'new moon', 'sliver venus', '119am telescope', 'nova oxygen', 'venom poster', 'texas', 'lrgb combination', 'rock dallas', 'stellar nurseries', 'white dots', 'middle lagoon', 'fields city', 'sardinia italy', 'knob moon', 'alexander spahnns', 'black ottima', 'new moon', 'moon sardi', 'park cleaest', 'masker stretch', 'fuzzy area', 'miniscule sneak', 'peek makers', 'mars schmidtcassegrain', 'f200w', 'london', 'hercules pls', 'f150w', 'f200w', 'city darker', 'blue components', 'f200w', 'blue haze', 'nasa realized', 'mount eq6r', 'utah', 'sun north', 'atmospheres amp', 'salt lake', 'motion mmt', 'masked saturation', 'utah plno', 'asi120mm', 'merge merge', 'time zone', 'northern texas', 'idaho sun', 'webb mountains', 'omega centauri', 'minimalistic canada', 'stellar data', 'iacopo sassarini', 'grey stud', 'vienna astro', 'utah', 'grey stud', 'japan', 'nice pic', 'japan parker', 'telescope mount', 'canada', 'california', 'london', 'london london', 'space telescope', 'miami beach', 'non california', 'canada', 'hiraeth prayer', 'london', 'jwst hubble', 'colorado bortle', 'cow korea', 'supernova', 'agent faint', 'f200w', 'f200w', 'orange f770wf1000wf1280wf1800w', 'lens astro', 'big thump', 'your mount', 'dang', 'phd2', 'japan', 'israel weirdo', 'space ropes', 'milkomedra sun', 'gerry odriscoll', 'virginia', 'virginia', 'dbe decon', 'taiwanchina', 'avx italy', 'mass africa', 'underground', 'abandoned gold', 'virginia italy', 'virginia', 'virginia', 'virginia', 'texas', 'italy', 'virginia', 'virginia', 'newton', 'moon virginia', 'detectorlevel aaaaaaagghh', 'globular bananas', 'registax6', 'nova black', 'pennsylvania startalk', 'new reality', 'london virginia', 'new york', 'alps obel', 'kamen slovenia', 'austria alps', 'galactic job', 'london eq6', 'mount us', 'valley australia', 'nova forever', 'mars black', 'florida', 'xray noir', 'characteristic sound', 'moon mass', 'halo android', 'toronto', 'doc brown', 'stanley lake', 'perseid meteor', 'tel aviv', 'israel', 'acoustic noisy', 'moon leipzig', 'brooklyn largest', 'santa monica', 'arma boomerang', 'article long', 'antennas view', 'mpcc mkiii', 'asi120mm', 'algorithm finer', 'kowalik amp', 'atlantic', 'vandenberg', 'las palmas', 'russia', 'southeast germany', 'estonia', 'nato contries', 'intern moon', 'matplotlib nebulae', 'big brain', 'moon great', 'poland', 'proxima centauri', 'brazil halfway', 'moon flat', 'blue f200w', 'mars hubble', 'f200w', 'moon leipzig', 'france', 'netherlands', 'dmx pipp', 'registax6 sun', 'naw man', 'wallpaper engine', 'angle integration', 'eq6r mount', 'austria jsut', 'saint louis', 'france', 'holy washington', 'serbia', 'mt haleakala', 'santa mystery', 'ad10 dobsonian', 'western veil', 'adventurer canon', 'new delhi', 'india', 'john dobsons', 'japan', 'google sky', 'new zealand', 'matarikis reappearance', 'new zealand', 'new zealand', 'big dipper', 'iraq', 'northern hemisphere', 'netherlands street', 'red coloration', 'moon leipzig', 'degrasstyson stephen', 'pic red', 'netherlands', 'leo lyra', 'costa rica', 'central america', 'saudi arabia', 'alps denmark', 'hardware camel', 'check denmark', 'france', 'pov spts', 'registax6', 'nasa xray', 'arcsinh10', 'halo black', 'starry prestarxterminator', 'nucleus house', 'asmr xray', 'white head', 'himawari toronto', 'astro pixel', 'non goto', 'starlink satellites', 'south georgia', 'univerrese astro', 'knew chemisynthetic', 'intro', 'the circle', 'starlink satellites', 'christchurch dang', 'acquisition samyang', 'siril stacking', 'crop background', 'white contrast', 'south milky', 'lower aperture', 'mars australia', 'pegasus astro', 'f150w', 'f250w', 'astro canada', 'nova', 'greek island', 'rocky hills', 'subaru keck', 'nucleus supernova', 'big bang', 'big bang', 'big bang', 'big bang', 'aloha kakou', 'big bang', 'moon leipzig', 'spiral angle', 'colonies supereddinton', 'sct middle', 'nova void', 'france spiral', 'supernova rome', 'northern minnesota', 'big boomy', 'saitama vs', 'al drive', 'california width', 'google line', 'arizona', 'arizona', 'big math', 'proxima centari', 'orcus telescope', 'algorithm holy', 'proxima m17s', 'mars linear', 'pipp lightyears', 'switzerland', 'registax6', 'dragon ball', 'theory states', 'mars mathematical', 'meatball tennessee', 'nashville columbia', 'inner city', 'new kink', 'lemon job', 'hexeum mm', 'watts watts', 'utah', '850lp the', 'kinetic recorded', 'acoustic acoustic', 'middle clearer', 'new visual', 'utah', 'new supernova', 'acoustic', 'rochelle', 'canada', 'axewait', 'acoustic astrophysics', 'black hills', 'comms orion', 'mass andor', 'solar city', 'useless outside', 'south africa', 'russia', 'registax6 mirror', 'smearing sun', 'tracker dslr', 'southern alps', 'new zealand', 'photoshop dongle', 'narrow lunar', 'alps alps', 'mode satellites', 'swamp gas', 'apollo moon', 'russia', '533mc ngc2070', 'texas original', 'gimp data', 'nova hydrogen', 'new cmos', 'merci beaucoup', 'pixel width', 'chicago', 'kepler kepler', 'big bangs', 'new data', 'big crunch', 'big bang', 'big bang', 'big bounce', 'merit telescope', 'pipp astrosurface', 'no moon', 'toronto', 'toronto', 'toronto', 'toronto', 'toronto', 'toronto', 'los angeles', 'harvest moon', 'toronto', 'toronto', 'netherlands', 'sacramento', 'moon canada', 'orange due', 'east due', 'west sun', 'west sun', 'vedo che', 'mars australia', 'orange and', 'toronto', 'toronto', 'toronto', 'moon toronto', 'blue light', 'harvest moon', 'moscow', 'astroberry canon', 'toronto', 'toronto', 'west mean', 'moon sun', 'orange county', 'carnival mars', 'toodaly pipp', 'autostakkert dslr', 'kentucky', 'dong hello', 'italy', 'virginia', 'msc bsc', 'san augustine', 'white sands', 'gbt hottest', 'new signal', 'starforming region', 'white holes', 'mcdonald observatory', 'fort worth', 'texas', 'grey kicks', 'supernova moon', 'astronomy sabine', 'hossenfelder atmospheric', 'no moon', 'specs build', 'sharpcap autostakkert', 'kepler bethlehem', 'moon nirvana', 'chile chile', 'atacama', 'central chile', 'nova carina', 'mpcc mkiii', 'asi120mm', 'non astro', 'armada brothers', 'big fuzzy', 'white balance', 'big moon', 'mpcc mkiii', 'asi120mm', 'uae bortle', 'space heater', 'space heater', 'white dwarf', 'mediumhigh mass', 'white dwarfs', 'white dwarf', 'wisconsin schwarzchild', 'harvard west', 'arizona', 'moon mars', 'math telescope', 'eq6r australia', 'builtin functions', 'belly button', 'adams apple', 'blue ball', 'fields telescope', 'canada vantage', 'peaks math', 'cba sketchpad', 'lima peru', 'hello neighbor', 'lake beach', 'west satellite', 'chandra lowmass', 'xray midwest', 'pipp autostakkert', 'photoshop saturation', 'ngc6888 reducer', 'northern denver', 'alaska', 'georgia', 'california', 'maryland', 'florida', 'florida', 'maryland', 'cape florida', 'new hampshire', 'spacex dumdum', 'connecticut', 'florida', 'canada northern', 'starlink satellites', 'maryland', 'virginia', 'maryland', 'moon smaug', 'love sea', 'fraser cain', 'santa starlink', 'mount nico', 'maryland', 'mpcc mkiii', 'asi120mm', 'north carolina', 'rhode island', 'pipp autostakkert', 'starlink satellites', 'bin1dark', 'arizona', 'mars synscan', 'starlink satellites', 'big telescopes', 'atacama', 'atacama', 'atacama', 'latin', 'link willis', 'natural pest', 'nasa dart', 'florida', 'atacama', 'natgeo scope', 'spain photon', 'decon soooooooo', 'equipment canon', 'spain', 'intro', 'moon australia', 'sky observatory', 'middle right', 'image xray', 'blue pixels', 'sun moon', 'new meade', 'milliarcsecond mas', '840am bst', 'london', 'john moon', 'equipment canon', 'image plate', 'nova oooo', 'asi120mm', '150px hargb', 'dang', 'canada', 'washington', 'atacama', 'the crater', 'avx mount', 'starlink satellites', 'looks alto', 'michigan telescope', 'great angle', 'colonies luna', 'crispy kreme', 'lightyears across', 'portland', 'at60ed', 'equipment telescope', 'olberss paradox', 'mars mars', 'moon artifact', 'newton newton', 'newton kit', 'kic 8462852', 'snr boundaries', 'moon newton', 'sent satellites', 'natural satellites', 'hidden planets', 'proxima centari', 'epsilon eridani', 'asteroid belt', 'asteroid belt', 'new moon', 'thin area', 'adventurer sigma', 'canada tripod', 'hmmm north', 'north carolina', 'lrgb channels', 'aveyron region', 'france', 'pp cycle', 'sergei krikalev', 'moonorbiting satellites', 'lro34 astro', 'brazil', 'sedona', 'holy santa', 'arizona', 'atacama', 'kitt peak', 'solar observatory', 'sun astro', 'mars broken', 'moon lunt', 'cygnus region', 'cmos houston', 'cygnus region', 'sun sec2', 'blue balance', 'new coding', 'apps west', 'japan', 'titan', 'answer thankfully', 'cassiopeiae masked', 'pipp autostakkert', 'sadr region', 'this moon', 'mpcc mkiii', 'asi120mm', 'magic detail', 'europe germany', 'equipment canon', 'lightroom mobile', 'red area', 'white pixels', 'west florida', 'suburban area', 'registax6 sun', 'nova chile', 'atacama', 'atacama', 'dark nebulae', 'nina', 'phd2', 'atacama', 'san francisco', 'mars', 'park moon', 'london manualy', 'moon monterrey', 'ligos diameter1112', 'big rock', 'cascina', 'italy', 'japan', 'hannover germany', 'asi120mm', 'mars russia', 'new zealand', 'new zealand', 'new zealand', 'dang deep', 'big city', 'blue streams', 'russia', 'greek ephemeris', 'israel', 'geico amateur', 'holy shit', 'google photos', 'merc planet', 'superb image', 'helena montana', 'nearzero sega', 'mars sirius', 'rgb eq6r', 'black holes', 'youtube peek', 'colorado colorado', 'moon nebula', 'lightyears google', 'australia', 'nebraska', 'japan', 'nebraska', 'ohio', 'azimuth angle', 'hipparchus egypt', 'detroit', 'texas', 'google maps', 'west southwest', 'texas', 'nebraska', 'texas', 'central kentucky', 'grey iraq', 'mars farnsworth', 'mars crater', 'non snarky', 'mars idas', 'altitude colorado', 'iran', 'the coolest', 'lens shape', 'phoenix', 'arizona', 'london', 'missouri', 'aavso youoverwash6827', 'gotham city', 'new york', 'new york', 'results speak', 'astrobin prabhuastrophotography', '533mc', 'mars car', 'starlink satellites', 'phd2', 'paris', 'teeny dipper', 'new zealand', 'mpcc mkiii', 'pakistan', 'florida moon', 'california', 'arizona', 'california', 'los angeles', 'south carolina', 'nova california', 'arizona', 'arizona', 'san diego', 'arizona', 'mexico', 'arizona', 'texas', 'jacksonville', 'florida', 'somerton', 'texas', 'arizona', 'florida county', 'north sedona', 'arizona', 'arizona', 'arizona', 'california', 'arizona', 'white point', 'new moon', 'osx soho', 'alexandria', 'egypt', 'historic documents', 'maryland', 'aswan', 'builtin in', 'mono data', 'egypt', 'at60ed', 'chile looking', 'alexandria moon', 'siberia sn1987a', 'sn1987a', 'berlin', 'portugal mars', 'nova', 'culdesac young', 'alps telescope', 'faint andromeda', 'berlin', 'mars telescope', 'west above', 'kratica rakova', 'pica dolkova', 'pica', 'rakova pica', 'magic telescope', 'lower albedo', 'mpcc mkiii', 'asi120mm', 'brazil', 'math amateur', 'namibia chile', 'nina', 'phd2', 'sunray pleating', 'oii dark', 'equipment canon', 'europe', 'florida', 'lrgb combination', 'nearearth asteroids', 'trojan asteroids', 'anton petrov', 'geological characteristics', 'mount eq6r', 'apps mount', 'sun australia', 'north west', 'mars black', 'russia', 'melodia', 'japan', 'australia', 'calculating albedo', 'japan', 'fantastic void', 'mpcc mkiii', 'duplicate dark', 'texas', 'nebraska', 'guadalupe river', 'sovngarde holy', 'afghanistan', 'afghanistan', 'italy conditions', 'geostationary orbit', 'new satellites', 'leo filtering', 'new software', 'mumbai bhai', 'amidst city', 'asia australia', 'acoustic acoustic', 'egypt', 'labels statusetc', 'acoustic', 'europe', 'telescope selfexplanatory', 'shadowy moon', 'abouts australia', 'mars astap', 'phd2', 'osaka', 'japan', 'toronto', 'afaik entangled', 'stuck canon', 'nyc ballistics', 'atmospheric distortion', 'europe wolf', 'taco bell', 'gta lunar', 'terran based', 'reddish moon', 'terran based', 'pica', 'amplify sun', 'new moon', 'arizona', 'australia', 'omega centauri', 'dublin ireland', 'hositon', 'japan', 'cincinnati', 'nyc fantastic', 'pink aromas', 'bopp pipp', 'new moon', 'jupiters moon', 'white dwarf', 'white dwarf', 'moon 533mc', 'white strikes', 'south florida', 'nova builtin', 'paris', 'khan', 'ohio', 'sun moon', 'paris', 'paris', 'wellington', 'blurry moon', 'new zealand', 'new jersey', 'make telescope', 'telescope atmospheric', 'celestial coordinates', 'kitt peak', 'caris mirror', 'paris', 'megadap zte', 'netherlands', 'italy', 'new orleans', 'toronto', 'netherlands', 'insta story', 'nebraska', 'clinics sessions', 'red albedo', 'wiki black', 'mars black', 'white chimps', 'utah moon', 'paris dark', 'swamp server', '533mc', 'growing city', 'specification hps', 'careless andor', 'lightroom mobile', 'equipment canon', 'lightroom mobile', 'australia', 'gpa purposes', 'new tshirt', 'the county', 'north korea', 'walt whitman', 'math convey', 'france astrophysics', 'area australia', 'the river', 'marwadimarawadi village', 'japan', 'finland', 'australia', 'italy drogheda', 'bettystown slane', 'dundalk ireland', 'sounds13 volcanic', 'mars', 'venus central', '533mc japan', 'sakai africa', 'greek astrolbos', 'southwest dickinson', 'white version', 'alpha catalogs', 'biologys nested', 'lolland denmark', 'toronto', 'ad10 dobsonian', 'mars moon', 'mars sun', 'mars telescope', 'rocky planet', 'los angeles', 'mars venus', 'astro angle', 'equipment canon', 'lightroom mobile', 'comets asteroids', 'liquid zone', 'sun moon', 'texas', 'efw software', 'altair astro', 'nina', 'sheehanraziel oiii', 'nova philadelphia', 'pennsylvania longer', 'dslr astro', 'moon moon', 'nebulaic1396', 'atacama', 'kitt peak', 'orange color', 'microsoft ice', 'southern observatory', 'gocart rentals', 'saint elmos', 'cerro paranal', 'peru', 'ps eq6r', 'white maryland', 'una bella', 'atacama', 'south nebulae', 'iruv mixtures', 'xk25379j mexico', 'russia', 'mpcc mkiii', 'asi120mm', 'broader contrast', 'google images', 'mass beyond', 'mpcc mkiii', 'asi120mm', 'broader contrast', 'mpcc mkiii', 'asi120mm', 'iraq', 'southeast arizona', 'chicagoland am', 'norway', 'galaxym31', 'guess veil', 'am5 eq6r', 'redcat71 eq6r', 'antarctica africa', 'russia', 'redcat71 eq6r', 'redcat71', 'california', 'arizona', 'moon mosaic', 'moon original', 'drive goof', 'supernova strip', 'arizona', 'ball persia', 'moon andorra', 'andorran', 'canada amazon', 'mars moon', 'germany', 'mpcc mkiii', 'asi120mm', 'layer original', 'magic detail', 'dodge merge', 'knob germany', 'south supernova', 'astrobin germany', 'france', 'paris', 'france', 'oceanid pleione', 'egypt', 'egypt', 'nile naannana', 'moon leipzig', 'strmgren reveal', 'moon pics', 'jnco jeans', 'culture house', 'middle east', 'area pipp', 'blurry views', 'new cmos', 'new cmos', 'california bortle', 'google photopills', 'holy fuck', 'ncr india', 'mars', 'bsc atmospheric', 'astrophoto rock', 'altitude azimuth', 'arizona', 'maya pipp', 'mars zurich', 'australia', 'south africa', 'park california', 'mpcc mkiii', 'asi120mm', 'ampnbsp software', 'magic detail', 'stockholm', 'halo mars', 'mars sun', 'mars mars', 'florida', 'mars data', 'google photos', 'sun suns', 'mass registax6', 'mars pic', 'mars', 'slushy', 'arizona', 'moon paragon', 'sunearth mesopotamia', 'africa moon', 'pipp autostackkert', 'reveal moon', 'orange shades', 'google forums', 'celestron apertura', 'artemis lunar', 'aisle titan', 'watery sort', 'red shift', 'midas', 'telescope pipp', 'crater sodepur', 'amateur telescope', 'math debris', 'lrgb combination', 'skumanichs old', 'mars data', 'infinite density', 'big bang', 'black holes', 'knob germany', 'mars telescope', 'new jersey', 'sneak peek', 'uk', 'clearer skies', 'new york', 'nick venatici', 'mars australia', 'telescope volcanic', 'telescope telescope', 'theme park', 'theme park', 'big bang', 'black holes', 'mpcc mkiii', 'asi120mm', 'freaky detail', 'magic detail', 'big city', 'bortle city', 'south sigma', 'oooo perty', 'big crater', 'telescope moon', 'new zealand', 'mori lunar', 'new zealand', 'paris', 'intro', 'tiwanaku globules', 'waaaaah', 'articles peer', 'power andor', 'peer review', '533mc agora', 'max tegmark', 'estivesse querendo', 'chegar tambm', 'aberto chama', 'astronomy domine', 'indonesia europe', 'france', 'switzerland', 'asi224mc celestron', 'math debris', 'amateur scopes', 'mars holy', 'cow mount', 'motorized mount', 'astro astro', 'moon dwarf', 'astrobin mass', 'infinite vacuum', 'intro', 'spcc phoenix', 'brad bailey', 'bailey brad', 'big telescope', 'sneak peek', 'texas', 'middle ground', 'math math', 'coursework texarkana', 'curves rangeselection', 'san antonio', 'skill spcc', 'asi120mm', 'moon moon', 'latin moon', 'san diego', 'john media', 'spcc cold', 'red shift', 'atacama', 'mars mars', 'auriga people', 'nova moon', 'phd2', 'hora diei', 'solis diei', 'hora noctis', 'italy', 'france', 'germany', 'signa meridiei', 'units sn1987a', 'greek astrolbos', 'mom amp', 'moon medicina', 'chicago barbecue', 'asi120mm', 'make him', 'big bang', 'apt astro', 'mexico avid', 'new software', 'atacama', 'missouri due', 'skysafari beliefs', 'annapolis maryland', 'utah', 'utah europe', 'the mountains', 'san diego', 'full moon', 'atacama', 'grey dark', 'nevada', 'arizona', 'conditions dubai', 'utah', 'utah', 'nevada', 'south carolina', 'new moon', 'utah', 'nyc utah', 'bryce canyon', 'meteor ummm', 'mars skysafari', 'moon emoji', 'mars joker', 'south dakotan', 'south carolina', 'crystal clear', 'sneak peek', 'pbs spacetimes', 'width width', 'mpcc mkiii', 'asi120mm', 'variance normalization', 'layer original', 'magic detail', 'horizon forbidden', 'min exposure', 'full moon', 'faint detail']\n"
     ]
    }
   ],
   "source": [
    "rec_loc_s2 = get_locations(model_t,rec_loc_s)\n",
    "rec_loc_s3 = get_locations(model_t,rec_loc_s2)\n",
    "rec_loc_s4 = get_locations(model_t,rec_loc_s3)\n",
    "print(rec_loc_s3)"
   ]
  },
  {
   "cell_type": "code",
   "execution_count": 256,
   "metadata": {},
   "outputs": [],
   "source": [
    "from HelperFunctions import write_to_text_file\n",
    "\n",
    "write_to_text_file(rec_loc_s4, \"NER_loc_tuned_comments_v2_sentences\")\n",
    "#write_to_text_file(rec_loc_s, \"NER_loc__submissions_sentences\")\n"
   ]
  },
  {
   "cell_type": "code",
   "execution_count": 259,
   "metadata": {},
   "outputs": [
    {
     "data": {
      "text/plain": [
       "[('arizona', 25),\n",
       " ('atacama', 20),\n",
       " ('new zealand', 18),\n",
       " ('toronto', 18),\n",
       " ('france', 15)]"
      ]
     },
     "execution_count": 259,
     "metadata": {},
     "output_type": "execute_result"
    }
   ],
   "source": [
    "from collections import Counter\n",
    "\n",
    "def rank_loc(file_path):# Initialize a Counter to keep track of occurrences\n",
    "    counter = Counter()\n",
    "\n",
    "    # Open the text file in read mode\n",
    "    with open(file_path, 'r', encoding='utf-8') as file:\n",
    "        # Iterate over each line in the file\n",
    "        for line in file:\n",
    "            # Remove leading/trailing whitespace and convert to lowercase\n",
    "            line = line.strip().lower()\n",
    "            # Increment the count for this line\n",
    "            counter[line] += 1\n",
    "    top_5 = counter.most_common(5)\n",
    "    # Print the counts for each line\n",
    "    # for line, count in counter.items():\n",
    "    #     print(f\"'{line}': {count}\")'\n",
    "    return top_5\n",
    "rank_loc('NER_loc_tuned_comments_v2_sentences')"
   ]
  },
  {
   "cell_type": "code",
   "execution_count": null,
   "metadata": {},
   "outputs": [],
   "source": [
    "def process_file_w(file_path, model):\n",
    "    \"\"\"\n",
    "    Read words from a file and process them using spaCy's NER.\n",
    "    \n",
    "    Parameters:\n",
    "    - file_path (str): Path to the input text file.\n",
    "    - model: The spaCy NLP model.\n",
    "    \n",
    "    Returns:\n",
    "    - recommended_locs (list): List of extracted locations.\n",
    "    \"\"\"\n",
    "    i = 0\n",
    "    recommended_locs = []\n",
    "    with open(file_path, \"r\") as file:\n",
    "        for line in file:\n",
    "            word = line.strip()  # Remove leading/trailing whitespace\n",
    "            if word:  # Skip empty lines\n",
    "                # i += 1\n",
    "                # Process the word with spaCy\n",
    "                doc = model(word)\n",
    "                # Extract locations\n",
    "                loc = get_locations_from_doc(doc)\n",
    "                if loc:\n",
    "                    recommended_locs.extend(loc)\n",
    "                # if i == 60000:\n",
    "                #     break\n",
    "    return recommended_locs\n",
    "\n",
    "def get_locations_from_doc(doc):\n",
    "    \"\"\"\n",
    "    Extract location-related entities from a spaCy Doc object.\n",
    "    \n",
    "    Parameters:\n",
    "    - doc: A spaCy Doc object.\n",
    "    \n",
    "    Returns:\n",
    "    - locations (list): List of location names identified in the text.\n",
    "    \"\"\"\n",
    "    location_labels = {\"LOC\", \"GPE\", \"FAC\"}\n",
    "    return [ent.text for ent in doc.ents if ent.label_ in location_labels]\n",
    "\n",
    "rec_loc_w1 = process_file_w(\"preprocessed_comments_words\",model_t)\n",
    "rec_loc_w = get_locations(model_t,rec_loc_w1)\n"
   ]
  },
  {
   "cell_type": "code",
   "execution_count": null,
   "metadata": {},
   "outputs": [],
   "source": []
  },
  {
   "cell_type": "code",
   "execution_count": 151,
   "metadata": {},
   "outputs": [],
   "source": [
    "write_to_text_file(rec_loc_w, \"NER_loc_T_v2_comments_words\")\n",
    "#write_to_text_file(rec_loc_w, \"NER_loc_submissions_words\")\n"
   ]
  },
  {
   "cell_type": "code",
   "execution_count": 34,
   "metadata": {},
   "outputs": [
    {
     "name": "stdout",
     "output_type": "stream",
     "text": [
      "['florida', 'georgia', 'arizona', 'london', 'scotland', 'florida', 'arizona', 'northeast', 'strip', 'asi120mm', 'coma', 'at60ed', 'at60ed', 'canada', 'california', 'alaska', 'california', 'triton', 'michigan', 'michigan', 'michigan', 'newton', 'newton', 'alabama', 'massachusetts', 'mexico', 'pulsar']\n"
     ]
    }
   ],
   "source": [
    "print(rec_loc_w)"
   ]
  }
 ],
 "metadata": {
  "kernelspec": {
   "display_name": "openap-env",
   "language": "python",
   "name": "python3"
  },
  "language_info": {
   "codemirror_mode": {
    "name": "ipython",
    "version": 3
   },
   "file_extension": ".py",
   "mimetype": "text/x-python",
   "name": "python",
   "nbconvert_exporter": "python",
   "pygments_lexer": "ipython3",
   "version": "3.11.10"
  }
 },
 "nbformat": 4,
 "nbformat_minor": 2
}
