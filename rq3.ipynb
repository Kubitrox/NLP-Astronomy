{
 "cells": [
  {
   "cell_type": "code",
   "execution_count": 41,
   "metadata": {},
   "outputs": [],
   "source": [
    "from transformers import AutoTokenizer, AutoModelForTokenClassification,AutoModelForCausalLM\n",
    "from transformers import pipeline\n",
    "import torch\n",
    "from spacy.training import Example\n",
    "import spacy\n",
    "from collections import Counter\n",
    "from nltk.util import ngrams"
   ]
  },
  {
   "cell_type": "code",
   "execution_count": 1,
   "metadata": {},
   "outputs": [],
   "source": [
    "# #Atrolamma too big\n",
    "# tokenizer = AutoTokenizer.from_pretrained(\n",
    "#     pretrained_model_name_or_path=\"universeTBD/astrollama\"\n",
    "# )\n",
    "# model = AutoModelForCausalLM.from_pretrained(\n",
    "#     pretrained_model_name_or_path=\"universeTBD/astrollama\",\n",
    "#     device_map=\"auto\",\n",
    "# )"
   ]
  },
  {
   "cell_type": "code",
   "execution_count": 2,
   "metadata": {},
   "outputs": [],
   "source": [
    "# model_name = \"allenai/scibert_scivocab_uncased\"  # SciBERT model\n",
    "\n",
    "# tokenizer = AutoTokenizer.from_pretrained(model_name)\n",
    "# model = AutoModelForTokenClassification.from_pretrained(model_name)\n",
    "\n",
    "# ner_pipeline = pipeline(\"ner\", model=model, tokenizer=tokenizer)"
   ]
  },
  {
   "cell_type": "code",
   "execution_count": 3,
   "metadata": {},
   "outputs": [],
   "source": [
    "# # Save model and tokenizer locally\n",
    "# model.save_pretrained(\"./local_scibert_scivocab_uncased_model\")\n",
    "# tokenizer.save_pretrained(\"./local_scibert_scivocab_uncased_model\")"
   ]
  },
  {
   "cell_type": "code",
   "execution_count": 26,
   "metadata": {},
   "outputs": [
    {
     "name": "stderr",
     "output_type": "stream",
     "text": [
      "Some weights of the model checkpoint at dbmdz/bert-large-cased-finetuned-conll03-english were not used when initializing BertForTokenClassification: ['bert.pooler.dense.bias', 'bert.pooler.dense.weight']\n",
      "- This IS expected if you are initializing BertForTokenClassification from the checkpoint of a model trained on another task or with another architecture (e.g. initializing a BertForSequenceClassification model from a BertForPreTraining model).\n",
      "- This IS NOT expected if you are initializing BertForTokenClassification from the checkpoint of a model that you expect to be exactly identical (initializing a BertForSequenceClassification model from a BertForSequenceClassification model).\n",
      "Device set to use cuda:0\n"
     ]
    }
   ],
   "source": [
    "# from transformers import AutoTokenizer, AutoModelForTokenClassification, pipeline\n",
    "\n",
    "# # 1. Load a general-purpose NER model (fine-tuned for NER tasks)\n",
    "# model_name = \"dbmdz/bert-large-cased-finetuned-conll03-english\"  # Pre-trained NER model\n",
    "\n",
    "# # Load tokenizer and model\n",
    "# tokenizer = AutoTokenizer.from_pretrained(model_name)\n",
    "# model = AutoModelForTokenClassification.from_pretrained(model_name)\n",
    "\n",
    "# # 2. Create a NER pipeline\n",
    "# ner_pipeline = pipeline(\"ner\", model=model, tokenizer=tokenizer)\n",
    "\n",
    "# # 3. Define a list of known astronomical locations\n",
    "# astronomical_locations = [\n",
    "#     \"Andromeda Galaxy\", \"Milky Way\", \"Mars\", \"Venus\", \"Earth\", \"Hubble Space Telescope\", \"Crab Nebula\",\n",
    "#     \"Saturn\", \"Jupiter\", \"Alpha Centauri\", \"Orion Nebula\", \"Pluto\", \"Neptune\", \"Sirius\", \"Betelgeuse\", \"Sun\"\n",
    "# ]\n",
    "\n",
    "# # 4. Define the function to prioritize astronomical locations\n",
    "# def prioritize_astronomical_locations(ner_results):\n",
    "#     prioritized_entities = []\n",
    "#     i = 0\n",
    "#     while i < len(ner_results):\n",
    "#         entity = ner_results[i]\n",
    "#         if entity['entity'].startswith(\"B-\"):\n",
    "#             full_entity = entity['word']\n",
    "#             i += 1\n",
    "#             while i < len(ner_results) and ner_results[i]['entity'].startswith(\"I-\"):\n",
    "#                 full_entity += \" \" + ner_results[i]['word']\n",
    "#                 i += 1\n",
    "#             if any(location in full_entity for location in astronomical_locations):\n",
    "#                 prioritized_entities.append({\"word\": full_entity, \"priority\": \"HIGH\"})\n",
    "#             else:\n",
    "#                 prioritized_entities.append({\"word\": full_entity, \"priority\": \"LOW\"})\n",
    "#         else:\n",
    "#             i += 1\n",
    "#     return prioritized_entities\n",
    "\n",
    "# # 5. Define the function to process the input list of tokens and apply NER\n",
    "# def process_astronomical_text(tokens):\n",
    "#     text = \" \".join(tokens)\n",
    "#     ner_results = ner_pipeline(text)\n",
    "#     prioritized_entities = prioritize_astronomical_locations(ner_results)\n",
    "#     return prioritized_entities\n",
    "\n",
    "# # 6. Example Usage\n",
    "# tokens = [\"The\", \"Andromeda\", \"Galaxy\", \"is\", \"located\", \"next\", \"to\", \"the\", \"Milky\", \"Way\", \".\"]\n",
    "# prioritized_entities = process_astronomical_text(tokens)\n",
    "\n",
    "# # Display the results\n",
    "# for entity in prioritized_entities:\n",
    "#     print(f\"Entity: {entity['word']}, Priority: {entity['priority']}\")\n"
   ]
  },
  {
   "cell_type": "code",
   "execution_count": 42,
   "metadata": {},
   "outputs": [
    {
     "data": {
      "text/plain": [
       "0"
      ]
     },
     "execution_count": 42,
     "metadata": {},
     "output_type": "execute_result"
    }
   ],
   "source": [
    "# Load the base model\n",
    "model = spacy.load(\"en_core_web_sm\")\n",
    "ner = model.get_pipe(\"ner\")\n",
    "ner.add_label(\"LOC\")  # Add the label if not already present"
   ]
  },
  {
   "cell_type": "code",
   "execution_count": 124,
   "metadata": {},
   "outputs": [
    {
     "name": "stdout",
     "output_type": "stream",
     "text": [
      "('The skies over uluru are ideal for photographing andromeda galaxy.', {'entities': [(15, 20, 'LOC')]})\n",
      "('Photographing comets from lowell observatory is an unforgettable experience.', {'entities': [(26, 44, 'LOC')]})\n",
      "('satellites can often be seen clearly from okavango delta.', {'entities': [(42, 56, 'LOC')]})\n",
      "('the orion nebula can often be seen clearly from big bend national park.', {'entities': [(48, 70, 'LOC')]})\n",
      "('comets enthusiasts often gather at big bend national park.', {'entities': [(35, 57, 'LOC')]})\n"
     ]
    }
   ],
   "source": [
    "import random\n",
    "\n",
    "class AstroNERDataset:\n",
    "    def __init__(self):\n",
    "        self.templates = [\n",
    "            \"{location} is a popular spot for photographing {astro_object}.\",\n",
    "            \"Astrophotographers recommend {location} for capturing {astro_object}.\",\n",
    "            \"{location} offers some of the clearest skies for observing {astro_object}.\",\n",
    "            \"{astro_object} can often be seen clearly from {location}.\",\n",
    "            \"The skies over {location} are ideal for photographing {astro_object}.\",\n",
    "            \"Many photographers visit {location} to capture {astro_object}.\",\n",
    "            \"The observatories in {location} provide excellent views of {astro_object}.\",\n",
    "            \"{astro_object} enthusiasts often gather at {location}.\",\n",
    "            \"Photographing {astro_object} from {location} is an unforgettable experience.\",\n",
    "        ]\n",
    "\n",
    "        self.locations = [\n",
    "            \"Mauna Kea\", \"Atacama Desert\", \"Death Valley\", \"Mont Mégantic\", \"Pic du Midi\",\n",
    "            \"Lake Tekapo\", \"Okavango Delta\", \"Himalayas\", \"Cerro Paranal\", \"Uluru\",\n",
    "            \"Big Bend National Park\", \"Lick Observatory\", \"Lowell Observatory\",\n",
    "            \"International Space Station\", \"VLT in Chile\", \"Meteora in Greece\"\n",
    "        ]\n",
    "        self.locations = [location.lower() for location in self.locations]\n",
    "\n",
    "        self.astro_objects = [\n",
    "            \"Milky Way\", \"Moon\", \"Andromeda Galaxy\", \"Stars\", \"Nebulae\", \n",
    "            \"Planets\", \"Auroras\", \"Comets\", \"Meteors\", \"Exoplanets\",\n",
    "            \"Deep-sky Objects\", \"Satellites\", \"The Sun\", \"Earth from Space\",\n",
    "            \"Jupiter and its Moons\", \"The Orion Nebula\"\n",
    "        ]\n",
    "        self.astro_objects = [astro_object.lower() for astro_object in self.astro_objects]\n",
    "\n",
    "    \n",
    "    def generate_example(self):\n",
    "        \"\"\"Generates a single labeled training example.\"\"\"\n",
    "        template = random.choice(self.templates)\n",
    "        location = random.choice(self.locations)\n",
    "        astro_object = random.choice(self.astro_objects)\n",
    "        sentence = template.format(location=location, astro_object=astro_object)\n",
    "        # Define entities for the example\n",
    "        location_start = sentence.index(location)\n",
    "        location_end = location_start + len(location)\n",
    "        return (sentence, {\"entities\": [(location_start, location_end, \"LOC\")]})\n",
    "    \n",
    "    def generate_dataset(self, size=500):\n",
    "        \"\"\"Generates a dataset with the specified number of examples.\"\"\"\n",
    "        dataset = [self.generate_example() for _ in range(size)]\n",
    "        return dataset\n",
    "\n",
    "# Create the dataset\n",
    "astro_dataset = AstroNERDataset()\n",
    "train_data = astro_dataset.generate_dataset(size=500)\n",
    "\n",
    "# Preview a few examples\n",
    "for example in train_data[:5]:\n",
    "    print(example)\n"
   ]
  },
  {
   "cell_type": "code",
   "execution_count": 125,
   "metadata": {},
   "outputs": [],
   "source": [
    "def fine_tune(model,train_data):# Convert to spaCy's Example objects\n",
    "    examples = [Example.from_dict(model.make_doc(text), ann) for text, ann in train_data]\n",
    "\n",
    "    # Fine-tune the model\n",
    "    optimizer = model.resume_training()\n",
    "    for epoch in range(10):\n",
    "        losses = {}\n",
    "        model.update(examples, drop=0.5, losses=losses)\n",
    "fine_tune(model,train_data)"
   ]
  },
  {
   "cell_type": "markdown",
   "metadata": {},
   "source": []
  },
  {
   "cell_type": "code",
   "execution_count": 126,
   "metadata": {},
   "outputs": [],
   "source": [
    "# Save the fine-tuned model\n",
    "model.to_disk(\"fine_tuned_astro_ner\")"
   ]
  },
  {
   "cell_type": "code",
   "execution_count": 61,
   "metadata": {},
   "outputs": [],
   "source": [
    "tokens = [\n",
    "    \"The\", \"Mauna\", \"Kea\", \"Observatory\", \"in\", \"Hawaii\", \"offers\", \"unparalleled\", \"views\", \"of\", \"the\", \"Milky\", \"Way\", \"due\", \"to\", \"its\", \"high\", \"altitude\", \"and\", \"clear\", \"skies\", \".\",\n",
    "    \"The\", \"Atacama\", \"Desert\", \"in\", \"Chile\", \"is\", \"one\", \"of\", \"the\", \"best\", \"places\", \"on\", \"Earth\", \"for\", \"stargazing\", \",\", \"thanks\", \"to\", \"its\", \"dry\", \"climate\", \"and\", \"minimal\", \"light\", \"pollution\", \".\",\n",
    "    \"Photographers\", \"love\", \"capturing\", \"the\", \"Aurora\", \"Borealis\", \"from\", \"Tromsø\", \",\", \"Norway\", \",\", \"especially\", \"during\", \"the\", \"winter\", \"months\", \"when\", \"the\", \"lights\", \"are\", \"most\", \"vivid\", \".\",\n",
    "    \"The\", \"Namib\", \"Desert\", \"in\", \"Namibia\", \"provides\", \"a\", \"spectacular\", \"view\", \"of\", \"the\", \"Southern\", \"Hemisphere\", \"'s\", \"stars\", \",\", \"with\", \"almost\", \"no\", \"artificial\", \"light\", \"interference\", \".\",\n",
    "    \"The\", \"Canary\", \"Islands\", \"are\", \"popular\", \"for\", \"astrophotography\", \",\", \"especially\", \"at\", \"the\", \"Roque\", \"de\", \"los\", \"Muchachos\", \"Observatory\", \"on\", \"La\", \"Palma\", \".\",\n",
    "    \"Utah\", \"'s\", \"Bryce\", \"Canyon\", \"National\", \"Park\", \"is\", \"a\", \"favorite\", \"for\", \"night\", \"photography\", \",\", \"offering\", \"some\", \"of\", \"the\", \"darkest\", \"skies\", \"in\", \"the\", \"United\", \"States\", \".\",\n",
    "    \"The\", \"Dark\", \"Sky\", \"Park\", \"in\", \"Cherry\", \"Springs\", \"State\", \"Park\", \",\", \"Pennsylvania\", \",\", \"is\", \"renowned\", \"for\", \"its\", \"pristine\", \"night\", \"skies\", \"and\", \"excellent\", \"stargazing\", \"opportunities\", \".\",\n",
    "    \"Mount\", \"Cook\", \"National\", \"Park\", \"in\", \"New\", \"Zealand\", \"is\", \"part\", \"of\", \"the\", \"Aoraki\", \"Mackenzie\", \"International\", \"Dark\", \"Sky\", \"Reserve\", \",\", \"making\", \"it\", \"a\", \"perfect\", \"spot\", \"for\", \"astrophotography\", \".\"\n",
    "]\n"
   ]
  },
  {
   "cell_type": "code",
   "execution_count": 127,
   "metadata": {},
   "outputs": [],
   "source": [
    "model_t = spacy.load(\"fine_tuned_astro_ner\")"
   ]
  },
  {
   "cell_type": "code",
   "execution_count": null,
   "metadata": {},
   "outputs": [
    {
     "data": {
      "text/plain": [
       "['The Mauna Kea Observatory',\n",
       " 'the Milky Way',\n",
       " 'The Atacama Desert',\n",
       " 'Earth',\n",
       " 'the Aurora Borealis',\n",
       " 'The Namib Desert',\n",
       " \"the Southern Hemisphere 's\",\n",
       " 'The Canary Islands',\n",
       " 'La Palma',\n",
       " 'Bryce Canyon National Park',\n",
       " 'The Dark Sky Park',\n",
       " 'Cherry Springs State Park',\n",
       " 'Mount Cook National Park']"
      ]
     },
     "execution_count": 128,
     "metadata": {},
     "output_type": "execute_result"
    }
   ],
   "source": [
    "\n",
    "def get_locations(model,tokens):\n",
    "    doc =  model(\" \".join(tokens))\n",
    "    for ent in doc.ents:\n",
    "        locations = [ent.text for ent in doc.ents if ent.label_ in [ \"LOC\"]]\n",
    "        return locations\n",
    "get_locations(model_t,tokens)"
   ]
  },
  {
   "cell_type": "code",
   "execution_count": 139,
   "metadata": {},
   "outputs": [],
   "source": [
    "def process_file(file_path,model):\n",
    "    \"\"\"\n",
    "    Read sentences from a file and process them using spaCy's NER.\n",
    "    \n",
    "    Parameters:\n",
    "    - file_path (str): Path to the input text file.\n",
    "    \"\"\"\n",
    "    i = 0\n",
    "    recomended_locs = []\n",
    "    with open(file_path, \"r\") as file:\n",
    "        lines = file.readlines()\n",
    "    \n",
    "    for line in lines:\n",
    "        sentence = line.strip()  # Remove leading/trailing whitespace\n",
    "        if sentence:  # Skip empty lines\n",
    "            i += 1\n",
    "            \n",
    "            # Tokenize the sentence into words\n",
    "            tokens = sentence.split()  # Split the sentence into tokens\n",
    "            # Extract locations\n",
    "            loc = get_locations(model, tokens)\n",
    "            if loc != None:\n",
    "                recomended_locs.extend(loc)\n",
    "            \n",
    "        if i == 1000:\n",
    "            break\n",
    "    return recomended_locs\n",
    "\n",
    "# Example Usage: Replace 'input.txt' with your text file\n",
    "rec_loc_c = process_file(\"preprocessed_comments_sentences\",model_t)"
   ]
  },
  {
   "cell_type": "code",
   "execution_count": 140,
   "metadata": {},
   "outputs": [
    {
     "name": "stdout",
     "output_type": "stream",
     "text": [
      "['jupiter', 'momentary trail meteor', 'bolide faint fuzzy ball', 'aircraft smoothly', 'starlink launch something', 'tail rocket launch', 'rocket launch bunch', 'rocket debris', 'white lights in formation just hanging in sky sometimes blinking drone', 'south carolina', 'skysafari app', 'naked eye on a good night', 'the easiest nebula', 'check out', 'georgia but', 'cheers mate', 'soooo cool', 'science olympiad astronomy', 'the sun nso kitt', 'molecules absorb', 'the dark sections', 'the dark band', 'made wallpaper', 'photo wallpaper', 'go outside and', 'really smart', 'stars always appear as', 'check over on rtelescopes', 'meteor showers', 'heavens above', 'gideon van buitenen', 'quick question', 'in suburbia', 'photo examples', 'hi mate', 'planetary detail', 'bst starguiders', 'check out star', 'a krait phantom', 'picture taken', 'astronomy stuff', 'the moon', 'the moon', 'the moon', 'laramie wyoming', 'photo shop', 'sct', 'eq6rpro mount', 'very rough polar alignment', 'the moon', 'the moon', 'smaller mass', 'intergalactic scales', 'the mass', 'the mass of the orbiting object actually cancels out mathematically the orbiters mass increases gravitational force but', 'certain types of stars have a specific small range in mass', 'great answer', 'you smart guys', 'great deep', 'took physics', 'mars', 'jupiter conjunction', 'equipment nikon', 'nice catch', 'extremely clean image submit', 'nebulas knowing', 'very good', 'the puntagirua pinnacles hanging out with the local ruru', 'the cold dark', 'blue horsehead nebula found', 'the scorpio', 'forming region full', 'equipment sony', 'mod ioptron', 'photoshop star reduction mask', 'starnett v20', 'the new zealand landscape and night', 'landscape astro', 'deep sky objects and occasional cat photos', 'crescent moon', 'among connaisseurs', 'this moon right', 'great picture', 'very noice', 'using bananas', 'my fav moon', 'reflector mount heq5', 'baader planetarium lrgb', 'central scotland', 'nice shot', 'the moon', 'elden rings', 'rune arc', 'and avx mount', 'new bahtinov', 'c19 u5', 'c19 u5', 'aircraft satellites', 'the tail end of my exposure', 'google inversesquare', 'certainly jupiter', 'reflective hexagonal', 'objects further away look dimmer', 'va roi ver', 'balloon popping', 'the dreamworks moon', 'v cute good job', 'cue the dope zoomin', 'awesome picture', 'tucson arizona', 'crescent moon', 'the east', 'the moon', 'the east same', 'the moon', 'the east', 'the west but', 'the west closely', 'objects rise', 'the east', 'the earth spins', 'meant west', 'the moon moves', 'ufos andor', 'probably substance abuse', 'very curious indeed', 'the moon', 'moving east', 'no moon', 'the hidden gem', 'reflector mount heq5', 'baader planetarium lrgb', 'no moon', 'intergalactic planetary', 'asteroid belt', 'the sun', 'beautiful shot', 'thin crescent', 'the northern hemisphere', 'planets jupiter saturn uranus neptune', 'on earth', 'palme lodders jones', 'asteroid belts', 'mass extinction', 'surface rocks', 'water evaporates rocks harden causing plate', 'recycle carbon', 'c3 photosynthesis', 'co2 starvation c4 photosynthesis', 'collidingwind pinwheel wr', 'new stellar encounters discovered in the second', 'gaia data', 'astronomy amp astrophysics', 'filip berski', 'astronomy amp astrophysics', 'minard anne', 'gammaray burst', 'caused mass extinction', 'national geographic news', 'swansong biospheres refuges for life and novel microbial biospheres', 'terrestrial planets near', 'heath martin', 'planetary astrophysics', 'franck s bounama', 'biogeosciences discussions', 'bounama c', 'franck s von bloh w', 'earths ocean', 'adams fred', 'long term astrophysical', 'global catastrophic risks', 'amazing shot', 'the trailer park of the universe', 'awesome photo great shot', 'fov field of view', 'the moon', 'the moon', 'omegon goldline', 'great stuff', 'great choice', 'cone angle', 'fov stands', 'nice shot', 'northern va', 'the moon', 'great attention', 'the northern cestial pole', 'grid north pole in the centre', 'cassiopeia perseus cameolopardalis', 'auriga among', 'the drive dark', 'national geographic', 'low light', 'the orange plates', 'reflective strips', 'low light', 'blue circle', 'the moon', 'yo momma', 'people have already debunked the ufo footage released by the pentagon', 'see neutron', 'soo light', 'sooo light', 'aotearoa forever', 'awesome picture', 'account galacticben m27', 'the dumbbell nebula', 'the central star', 'the dumbbell nebula', 'solar radii', 'white dwarf', 'efw baader', 'mkii coma corrector', 'asi294mm', 'mm tele', 'vue delos', 'atmospheric dispersion', 'iso stacked', 'picture taken', 'great photo', 'the moon', 'your physics', 'both neutron', 'white dwarfs', 'shifts described', 'find neutron', 'xray telescope', 'visible light', 'hot neutron', 'google', 'artistic renderings', 'are bananas', 'current telescope technology', 'talent skill', 'the moon', 'the moon hits', 'equatorial mount', 'beautiful dumbbell', 'the north america', 'advanced vx mount mount', 'astroberry canon', 'photoshop curves and levels', 'awesome thanks for the link', 'rick rolld', 'stacked simplest', 'white light shining through a glass of water onto', 'red dye', 'absorption dark lines', 'lightyears across', 'check out', 'grad students', 'the arxiv', 'tuition undertaken', 'astronomy community', 'excellent work', 'solar system galaxies multiple galaxies', 'hole multi verse', 'north america', 'california are', 'great photo taking', 'the california gold rush', 'format ed ting', 'darker skies budget', 'earth looks', 'a moon titan', 'beautiful image', 'why mars', 'that big blue', 'pluto gang gang', 'definitely neptunesaturn freaks me tf out', 'big saturn', 'satellite titan', 'earth', 'turner monet manet', 'nikon z7', 'lens iso', 'jupiter', 'saturn hits different', 'a moon', 'little black circle appearing and disappearing on the surface of earth', 'jupiter or neptune', 'jupiters auroras', 'mars', 'magnetic field', 'mars', 'venera neptun', 'natural satellites', 'then mars neptun', 'the dumbbell nutella gtlt', 'goddamn do you never get tired of this extremely', 'blue is hypnotic', 'neil degrasse', 'jupiter by', 'the south pole', 'random information', 'pole reversals shift', 'mean jupiter', 'mars', 'pluto strong', 'ahh alright thank', 'jupiter', 'exploration jupiter', 'pluto dwarf planet', 'why mars', 'the moon', 'the moon', 'the earth and the sun', 'the moon', 'the moon', 'the earth ie', 'space see', 'the middle point from left', 'the middle point', 'the moon', 'jupiter', 'how jupiter is kind of', 'the jovian system', 'most horrific jupiter', 'mines the sun', 'earth', 'mines the sun', 'jupiter', 'mines the sun', 'the moon', 'garlic spare', 'mines the sun', 'saturns poles but', 'got original source', 'jupiter', 'the dark', 'the mo', 'hahaha that', 'about titan now', 'jupiter but uranus and neptune might win depending on']\n"
     ]
    }
   ],
   "source": [
    "print(rec_loc_c)"
   ]
  },
  {
   "cell_type": "code",
   "execution_count": 141,
   "metadata": {},
   "outputs": [],
   "source": [
    "def process_file(file_path, model):\n",
    "    \"\"\"\n",
    "    Read words from a file and process them using spaCy's NER.\n",
    "    \n",
    "    Parameters:\n",
    "    - file_path (str): Path to the input text file.\n",
    "    - model: The spaCy NLP model.\n",
    "    \n",
    "    Returns:\n",
    "    - recommended_locs (list): List of extracted locations.\n",
    "    \"\"\"\n",
    "    i = 0\n",
    "    recommended_locs = []\n",
    "    with open(file_path, \"r\") as file:\n",
    "        for line in file:\n",
    "            word = line.strip()  # Remove leading/trailing whitespace\n",
    "            if word:  # Skip empty lines\n",
    "                i += 1\n",
    "                # Process the word with spaCy\n",
    "                doc = model(word)\n",
    "                # Extract locations\n",
    "                loc = get_locations_from_doc(doc)\n",
    "                if loc:\n",
    "                    recommended_locs.extend(loc)\n",
    "                if i == 1000:\n",
    "                    break\n",
    "    return recommended_locs\n",
    "\n",
    "def get_locations_from_doc(doc):\n",
    "    \"\"\"\n",
    "    Extract locations from a spaCy Doc object.\n",
    "    \n",
    "    Parameters:\n",
    "    - doc: A spaCy Doc object.\n",
    "    \n",
    "    Returns:\n",
    "    - locations (list): List of location names identified in the text.\n",
    "    \"\"\"\n",
    "    return [ent.text for ent in doc.ents if ent.label_ == \"LOC\"]\n",
    "rec_loc_w = process_file(\"preprocessed_comments_words\",model_t)\n"
   ]
  },
  {
   "cell_type": "code",
   "execution_count": 142,
   "metadata": {},
   "outputs": [
    {
     "name": "stdout",
     "output_type": "stream",
     "text": [
      "[]\n"
     ]
    }
   ],
   "source": [
    "print(rec_loc_w)"
   ]
  }
 ],
 "metadata": {
  "kernelspec": {
   "display_name": "openap-env",
   "language": "python",
   "name": "python3"
  },
  "language_info": {
   "codemirror_mode": {
    "name": "ipython",
    "version": 3
   },
   "file_extension": ".py",
   "mimetype": "text/x-python",
   "name": "python",
   "nbconvert_exporter": "python",
   "pygments_lexer": "ipython3",
   "version": "3.11.10"
  }
 },
 "nbformat": 4,
 "nbformat_minor": 2
}
