{
 "cells": [
  {
   "cell_type": "markdown",
   "id": "f0132db88a970a86",
   "metadata": {},
   "source": [
    "# NLP ASTRONOMY PROJECT\n",
    "\n",
    "**Authors**\n",
    "- Grzegorz Kaminski: 5732727\n",
    "- Maciej Lewiński: 5687632\n",
    "- Shourya Bhandari: 5226597\n",
    "- Toma Vučinić: 5748070\n",
    "- Jakub Wysocki: 5689996"
   ]
  },
  {
   "cell_type": "markdown",
   "id": "f3dea388f79b6d87",
   "metadata": {},
   "source": [
    "In this project, research questions about the astronomy subreddit will be investigated:\n",
    "1. RQ1: What features and functionalities do users value most in stargazing apps and astronomy software?\n",
    "2. RQ2: What hardware specifications are discussed and desired most frequently by the community?\n",
    "3. RQ3: What locations are most frequently recommended or discussed for photographing astronomical objects or events?"
   ]
  },
  {
   "cell_type": "code",
   "execution_count": 1,
   "id": "c89bbb4b0ad4fa5f",
   "metadata": {
    "ExecuteTime": {
     "end_time": "2025-01-08T23:06:24.464498Z",
     "start_time": "2025-01-08T23:06:22.634302Z"
    }
   },
   "outputs": [
    {
     "data": {
      "text/plain": [
       "True"
      ]
     },
     "execution_count": 1,
     "metadata": {},
     "output_type": "execute_result"
    }
   ],
   "source": [
    "# General import statements\n",
    "import json\n",
    "import pandas as pd\n",
    "import re\n",
    "import nltk\n",
    "from nltk.corpus import stopwords\n",
    "from nltk.tokenize import word_tokenize\n",
    "from nltk.stem import WordNetLemmatizer\n",
    "\n",
    "# Download NLTK resources\n",
    "nltk.download('punkt', quiet=True)\n",
    "nltk.download('punkt_tab', quiet=True)\n",
    "nltk.download('stopwords', quiet=True)\n",
    "nltk.download('wordnet', quiet=True)"
   ]
  },
  {
   "cell_type": "markdown",
   "id": "b7456eb3e2536035",
   "metadata": {},
   "source": [
    "# DATASET INSPECTION"
   ]
  },
  {
   "cell_type": "code",
   "execution_count": 2,
   "id": "307063d4b8ea3106",
   "metadata": {
    "ExecuteTime": {
     "end_time": "2025-01-08T23:06:28.472806Z",
     "start_time": "2025-01-08T23:06:24.465507Z"
    }
   },
   "outputs": [
    {
     "name": "stdout",
     "output_type": "stream",
     "text": [
      "Successfully loaded Reddit comments. Our dataset includes 64271 Reddit comments \n",
      "\n",
      "Successfully loaded Reddit submissions. Our dataset includes 8058 Reddit submissions\n",
      "\n"
     ]
    }
   ],
   "source": [
    "from HelperFunctions import load_ndjson\n",
    "\n",
    "comments_file = \"astronomy_comments.ndjson\"\n",
    "submissions_file = \"astronomy_submissions.ndjson\"\n",
    "\n",
    "# Pandas dataframe storing comments and submissions\n",
    "comments_df = load_ndjson(comments_file)\n",
    "submissions_df = load_ndjson(submissions_file)\n",
    "\n",
    "print(f\"Successfully loaded Reddit comments. Our dataset includes {comments_df.shape[0]} Reddit comments \\n\")\n",
    "print(f\"Successfully loaded Reddit submissions. Our dataset includes {submissions_df.shape[0]} Reddit submissions\\n\")"
   ]
  },
  {
   "cell_type": "code",
   "execution_count": 3,
   "id": "40d6ff6c832c1c0e",
   "metadata": {
    "ExecuteTime": {
     "end_time": "2025-01-08T23:06:28.502581Z",
     "start_time": "2025-01-08T23:06:28.473808Z"
    }
   },
   "outputs": [
    {
     "name": "stdout",
     "output_type": "stream",
     "text": [
      "Comments Keys:\n",
      "\n",
      "['all_awardings', 'archived', 'associated_award', 'author', 'author_created_utc', 'author_flair_background_color', 'author_flair_css_class', 'author_flair_richtext', 'author_flair_template_id', 'author_flair_text', 'author_flair_text_color', 'author_flair_type', 'author_fullname', 'author_patreon_flair', 'author_premium', 'body', 'can_gild', 'collapsed', 'collapsed_because_crowd_control', 'collapsed_reason', 'collapsed_reason_code', 'comment_type', 'controversiality', 'created_utc', 'distinguished', 'edited', 'gilded', 'gildings', 'id', 'is_submitter', 'link_id', 'locked', 'name', 'no_follow', 'parent_id', 'permalink', 'retrieved_on', 'score', 'score_hidden', 'send_replies', 'stickied', 'subreddit', 'subreddit_id', 'subreddit_name_prefixed', 'subreddit_type', 'top_awarded_type', 'total_awards_received', 'treatment_tags', 'unrepliable_reason', 'author_cakeday', 'editable']\n",
      "Comments Sample:\n",
      "\n"
     ]
    },
    {
     "data": {
      "text/html": [
       "<div>\n",
       "<style scoped>\n",
       "    .dataframe tbody tr th:only-of-type {\n",
       "        vertical-align: middle;\n",
       "    }\n",
       "\n",
       "    .dataframe tbody tr th {\n",
       "        vertical-align: top;\n",
       "    }\n",
       "\n",
       "    .dataframe thead th {\n",
       "        text-align: right;\n",
       "    }\n",
       "</style>\n",
       "<table border=\"1\" class=\"dataframe\">\n",
       "  <thead>\n",
       "    <tr style=\"text-align: right;\">\n",
       "      <th></th>\n",
       "      <th>all_awardings</th>\n",
       "      <th>archived</th>\n",
       "      <th>associated_award</th>\n",
       "      <th>author</th>\n",
       "      <th>author_created_utc</th>\n",
       "      <th>author_flair_background_color</th>\n",
       "      <th>author_flair_css_class</th>\n",
       "      <th>author_flair_richtext</th>\n",
       "      <th>author_flair_template_id</th>\n",
       "      <th>author_flair_text</th>\n",
       "      <th>...</th>\n",
       "      <th>subreddit</th>\n",
       "      <th>subreddit_id</th>\n",
       "      <th>subreddit_name_prefixed</th>\n",
       "      <th>subreddit_type</th>\n",
       "      <th>top_awarded_type</th>\n",
       "      <th>total_awards_received</th>\n",
       "      <th>treatment_tags</th>\n",
       "      <th>unrepliable_reason</th>\n",
       "      <th>author_cakeday</th>\n",
       "      <th>editable</th>\n",
       "    </tr>\n",
       "  </thead>\n",
       "  <tbody>\n",
       "    <tr>\n",
       "      <th>0</th>\n",
       "      <td>[]</td>\n",
       "      <td>False</td>\n",
       "      <td>None</td>\n",
       "      <td>rara0o</td>\n",
       "      <td>1.627269e+09</td>\n",
       "      <td>None</td>\n",
       "      <td>None</td>\n",
       "      <td>[]</td>\n",
       "      <td>None</td>\n",
       "      <td>None</td>\n",
       "      <td>...</td>\n",
       "      <td>Astronomy</td>\n",
       "      <td>t5_2qhor</td>\n",
       "      <td>r/Astronomy</td>\n",
       "      <td>public</td>\n",
       "      <td>None</td>\n",
       "      <td>0</td>\n",
       "      <td>[]</td>\n",
       "      <td>None</td>\n",
       "      <td>NaN</td>\n",
       "      <td>NaN</td>\n",
       "    </tr>\n",
       "    <tr>\n",
       "      <th>1</th>\n",
       "      <td>[]</td>\n",
       "      <td>False</td>\n",
       "      <td>None</td>\n",
       "      <td>The_Dead_See</td>\n",
       "      <td>1.364700e+09</td>\n",
       "      <td>None</td>\n",
       "      <td>None</td>\n",
       "      <td>[]</td>\n",
       "      <td>None</td>\n",
       "      <td>None</td>\n",
       "      <td>...</td>\n",
       "      <td>Astronomy</td>\n",
       "      <td>t5_2qhor</td>\n",
       "      <td>r/Astronomy</td>\n",
       "      <td>public</td>\n",
       "      <td>None</td>\n",
       "      <td>0</td>\n",
       "      <td>[]</td>\n",
       "      <td>None</td>\n",
       "      <td>NaN</td>\n",
       "      <td>NaN</td>\n",
       "    </tr>\n",
       "    <tr>\n",
       "      <th>2</th>\n",
       "      <td>[]</td>\n",
       "      <td>False</td>\n",
       "      <td>None</td>\n",
       "      <td>CeaselessStumblingOn</td>\n",
       "      <td>1.610957e+09</td>\n",
       "      <td>None</td>\n",
       "      <td>None</td>\n",
       "      <td>[]</td>\n",
       "      <td>None</td>\n",
       "      <td>None</td>\n",
       "      <td>...</td>\n",
       "      <td>Astronomy</td>\n",
       "      <td>t5_2qhor</td>\n",
       "      <td>r/Astronomy</td>\n",
       "      <td>public</td>\n",
       "      <td>None</td>\n",
       "      <td>0</td>\n",
       "      <td>[]</td>\n",
       "      <td>None</td>\n",
       "      <td>NaN</td>\n",
       "      <td>NaN</td>\n",
       "    </tr>\n",
       "    <tr>\n",
       "      <th>3</th>\n",
       "      <td>[]</td>\n",
       "      <td>False</td>\n",
       "      <td>None</td>\n",
       "      <td>[deleted]</td>\n",
       "      <td>NaN</td>\n",
       "      <td></td>\n",
       "      <td>None</td>\n",
       "      <td>NaN</td>\n",
       "      <td>None</td>\n",
       "      <td>None</td>\n",
       "      <td>...</td>\n",
       "      <td>Astronomy</td>\n",
       "      <td>t5_2qhor</td>\n",
       "      <td>r/Astronomy</td>\n",
       "      <td>public</td>\n",
       "      <td>None</td>\n",
       "      <td>0</td>\n",
       "      <td>[]</td>\n",
       "      <td>None</td>\n",
       "      <td>NaN</td>\n",
       "      <td>NaN</td>\n",
       "    </tr>\n",
       "    <tr>\n",
       "      <th>4</th>\n",
       "      <td>[]</td>\n",
       "      <td>False</td>\n",
       "      <td>None</td>\n",
       "      <td>Ok-Golf-58</td>\n",
       "      <td>1.601784e+09</td>\n",
       "      <td>None</td>\n",
       "      <td>None</td>\n",
       "      <td>[]</td>\n",
       "      <td>None</td>\n",
       "      <td>None</td>\n",
       "      <td>...</td>\n",
       "      <td>Astronomy</td>\n",
       "      <td>t5_2qhor</td>\n",
       "      <td>r/Astronomy</td>\n",
       "      <td>public</td>\n",
       "      <td>None</td>\n",
       "      <td>0</td>\n",
       "      <td>[]</td>\n",
       "      <td>None</td>\n",
       "      <td>NaN</td>\n",
       "      <td>NaN</td>\n",
       "    </tr>\n",
       "  </tbody>\n",
       "</table>\n",
       "<p>5 rows × 51 columns</p>\n",
       "</div>"
      ],
      "text/plain": [
       "  all_awardings  archived associated_award                author  \\\n",
       "0            []     False             None                rara0o   \n",
       "1            []     False             None          The_Dead_See   \n",
       "2            []     False             None  CeaselessStumblingOn   \n",
       "3            []     False             None             [deleted]   \n",
       "4            []     False             None            Ok-Golf-58   \n",
       "\n",
       "   author_created_utc author_flair_background_color author_flair_css_class  \\\n",
       "0        1.627269e+09                          None                   None   \n",
       "1        1.364700e+09                          None                   None   \n",
       "2        1.610957e+09                          None                   None   \n",
       "3                 NaN                                                 None   \n",
       "4        1.601784e+09                          None                   None   \n",
       "\n",
       "  author_flair_richtext author_flair_template_id author_flair_text  ...  \\\n",
       "0                    []                     None              None  ...   \n",
       "1                    []                     None              None  ...   \n",
       "2                    []                     None              None  ...   \n",
       "3                   NaN                     None              None  ...   \n",
       "4                    []                     None              None  ...   \n",
       "\n",
       "   subreddit subreddit_id subreddit_name_prefixed subreddit_type  \\\n",
       "0  Astronomy     t5_2qhor             r/Astronomy         public   \n",
       "1  Astronomy     t5_2qhor             r/Astronomy         public   \n",
       "2  Astronomy     t5_2qhor             r/Astronomy         public   \n",
       "3  Astronomy     t5_2qhor             r/Astronomy         public   \n",
       "4  Astronomy     t5_2qhor             r/Astronomy         public   \n",
       "\n",
       "  top_awarded_type total_awards_received  treatment_tags  unrepliable_reason  \\\n",
       "0             None                     0              []                None   \n",
       "1             None                     0              []                None   \n",
       "2             None                     0              []                None   \n",
       "3             None                     0              []                None   \n",
       "4             None                     0              []                None   \n",
       "\n",
       "  author_cakeday editable  \n",
       "0            NaN      NaN  \n",
       "1            NaN      NaN  \n",
       "2            NaN      NaN  \n",
       "3            NaN      NaN  \n",
       "4            NaN      NaN  \n",
       "\n",
       "[5 rows x 51 columns]"
      ]
     },
     "execution_count": 3,
     "metadata": {},
     "output_type": "execute_result"
    }
   ],
   "source": [
    "print(\"Comments Keys:\\n\")\n",
    "print(comments_df.columns.tolist())\n",
    "print(\"Comments Sample:\\n\")\n",
    "comments_df.head()"
   ]
  },
  {
   "cell_type": "code",
   "execution_count": 4,
   "id": "2ce7e5c08b0b9c37",
   "metadata": {
    "ExecuteTime": {
     "end_time": "2025-01-08T23:06:28.524801Z",
     "start_time": "2025-01-08T23:06:28.505592Z"
    }
   },
   "outputs": [
    {
     "name": "stdout",
     "output_type": "stream",
     "text": [
      "Submissions Keys:\n",
      "\n",
      "['all_awardings', 'allow_live_comments', 'archived', 'author', 'author_created_utc', 'author_flair_background_color', 'author_flair_css_class', 'author_flair_template_id', 'author_flair_text', 'author_flair_text_color', 'awarders', 'banned_by', 'can_gild', 'can_mod_post', 'category', 'content_categories', 'contest_mode', 'created_utc', 'discussion_type', 'distinguished', 'domain', 'edited', 'gilded', 'gildings', 'hidden', 'hide_score', 'id', 'is_created_from_ads_ui', 'is_crosspostable', 'is_meta', 'is_original_content', 'is_reddit_media_domain', 'is_robot_indexable', 'is_self', 'is_video', 'link_flair_background_color', 'link_flair_css_class', 'link_flair_richtext', 'link_flair_text', 'link_flair_text_color', 'link_flair_type', 'locked', 'media', 'media_embed', 'media_only', 'name', 'no_follow', 'num_comments', 'num_crossposts', 'over_18', 'parent_whitelist_status', 'permalink', 'pinned', 'pwls', 'quarantine', 'removed_by', 'removed_by_category', 'retrieved_on', 'retrieved_utc', 'score', 'secure_media', 'secure_media_embed', 'selftext', 'send_replies', 'spoiler', 'stickied', 'subreddit', 'subreddit_id', 'subreddit_name_prefixed', 'subreddit_subscribers', 'subreddit_type', 'suggested_sort', 'thumbnail', 'thumbnail_height', 'thumbnail_width', 'title', 'top_awarded_type', 'total_awards_received', 'treatment_tags', 'upvote_ratio', 'url', 'url_overridden_by_dest', 'view_count', 'whitelist_status', 'wls', 'author_flair_richtext', 'author_flair_type', 'author_fullname', 'author_patreon_flair', 'author_premium', 'post_hint', 'preview', 'gallery_data', 'is_gallery', 'media_metadata', 'author_cakeday', 'call_to_action']\n",
      "Submissions Sample:\n",
      "\n"
     ]
    },
    {
     "data": {
      "text/html": [
       "<div>\n",
       "<style scoped>\n",
       "    .dataframe tbody tr th:only-of-type {\n",
       "        vertical-align: middle;\n",
       "    }\n",
       "\n",
       "    .dataframe tbody tr th {\n",
       "        vertical-align: top;\n",
       "    }\n",
       "\n",
       "    .dataframe thead th {\n",
       "        text-align: right;\n",
       "    }\n",
       "</style>\n",
       "<table border=\"1\" class=\"dataframe\">\n",
       "  <thead>\n",
       "    <tr style=\"text-align: right;\">\n",
       "      <th></th>\n",
       "      <th>all_awardings</th>\n",
       "      <th>allow_live_comments</th>\n",
       "      <th>archived</th>\n",
       "      <th>author</th>\n",
       "      <th>author_created_utc</th>\n",
       "      <th>author_flair_background_color</th>\n",
       "      <th>author_flair_css_class</th>\n",
       "      <th>author_flair_template_id</th>\n",
       "      <th>author_flair_text</th>\n",
       "      <th>author_flair_text_color</th>\n",
       "      <th>...</th>\n",
       "      <th>author_fullname</th>\n",
       "      <th>author_patreon_flair</th>\n",
       "      <th>author_premium</th>\n",
       "      <th>post_hint</th>\n",
       "      <th>preview</th>\n",
       "      <th>gallery_data</th>\n",
       "      <th>is_gallery</th>\n",
       "      <th>media_metadata</th>\n",
       "      <th>author_cakeday</th>\n",
       "      <th>call_to_action</th>\n",
       "    </tr>\n",
       "  </thead>\n",
       "  <tbody>\n",
       "    <tr>\n",
       "      <th>0</th>\n",
       "      <td>[]</td>\n",
       "      <td>False</td>\n",
       "      <td>False</td>\n",
       "      <td>[deleted]</td>\n",
       "      <td>NaN</td>\n",
       "      <td></td>\n",
       "      <td>None</td>\n",
       "      <td>None</td>\n",
       "      <td>None</td>\n",
       "      <td>dark</td>\n",
       "      <td>...</td>\n",
       "      <td>NaN</td>\n",
       "      <td>NaN</td>\n",
       "      <td>NaN</td>\n",
       "      <td>NaN</td>\n",
       "      <td>NaN</td>\n",
       "      <td>NaN</td>\n",
       "      <td>NaN</td>\n",
       "      <td>NaN</td>\n",
       "      <td>NaN</td>\n",
       "      <td>NaN</td>\n",
       "    </tr>\n",
       "    <tr>\n",
       "      <th>1</th>\n",
       "      <td>[]</td>\n",
       "      <td>False</td>\n",
       "      <td>False</td>\n",
       "      <td>[deleted]</td>\n",
       "      <td>NaN</td>\n",
       "      <td></td>\n",
       "      <td>None</td>\n",
       "      <td>None</td>\n",
       "      <td>None</td>\n",
       "      <td>dark</td>\n",
       "      <td>...</td>\n",
       "      <td>NaN</td>\n",
       "      <td>NaN</td>\n",
       "      <td>NaN</td>\n",
       "      <td>NaN</td>\n",
       "      <td>NaN</td>\n",
       "      <td>NaN</td>\n",
       "      <td>NaN</td>\n",
       "      <td>NaN</td>\n",
       "      <td>NaN</td>\n",
       "      <td>NaN</td>\n",
       "    </tr>\n",
       "    <tr>\n",
       "      <th>2</th>\n",
       "      <td>[]</td>\n",
       "      <td>False</td>\n",
       "      <td>False</td>\n",
       "      <td>Soliastro</td>\n",
       "      <td>1.578060e+09</td>\n",
       "      <td>None</td>\n",
       "      <td>None</td>\n",
       "      <td>None</td>\n",
       "      <td>None</td>\n",
       "      <td>None</td>\n",
       "      <td>...</td>\n",
       "      <td>t2_5d0qj1f3</td>\n",
       "      <td>False</td>\n",
       "      <td>False</td>\n",
       "      <td>NaN</td>\n",
       "      <td>NaN</td>\n",
       "      <td>NaN</td>\n",
       "      <td>NaN</td>\n",
       "      <td>NaN</td>\n",
       "      <td>NaN</td>\n",
       "      <td>NaN</td>\n",
       "    </tr>\n",
       "    <tr>\n",
       "      <th>3</th>\n",
       "      <td>[]</td>\n",
       "      <td>False</td>\n",
       "      <td>False</td>\n",
       "      <td>Walden_Schmidt</td>\n",
       "      <td>1.648920e+09</td>\n",
       "      <td>None</td>\n",
       "      <td>None</td>\n",
       "      <td>None</td>\n",
       "      <td>None</td>\n",
       "      <td>None</td>\n",
       "      <td>...</td>\n",
       "      <td>t2_lg91j5ak</td>\n",
       "      <td>False</td>\n",
       "      <td>False</td>\n",
       "      <td>NaN</td>\n",
       "      <td>NaN</td>\n",
       "      <td>NaN</td>\n",
       "      <td>NaN</td>\n",
       "      <td>NaN</td>\n",
       "      <td>NaN</td>\n",
       "      <td>NaN</td>\n",
       "    </tr>\n",
       "    <tr>\n",
       "      <th>4</th>\n",
       "      <td>[]</td>\n",
       "      <td>False</td>\n",
       "      <td>False</td>\n",
       "      <td>Mammoth_Lifeguard_57</td>\n",
       "      <td>1.653326e+09</td>\n",
       "      <td>None</td>\n",
       "      <td>None</td>\n",
       "      <td>None</td>\n",
       "      <td>None</td>\n",
       "      <td>None</td>\n",
       "      <td>...</td>\n",
       "      <td>t2_njc2v380</td>\n",
       "      <td>False</td>\n",
       "      <td>False</td>\n",
       "      <td>NaN</td>\n",
       "      <td>NaN</td>\n",
       "      <td>NaN</td>\n",
       "      <td>NaN</td>\n",
       "      <td>NaN</td>\n",
       "      <td>NaN</td>\n",
       "      <td>NaN</td>\n",
       "    </tr>\n",
       "  </tbody>\n",
       "</table>\n",
       "<p>5 rows × 97 columns</p>\n",
       "</div>"
      ],
      "text/plain": [
       "  all_awardings  allow_live_comments  archived                author  \\\n",
       "0            []                False     False             [deleted]   \n",
       "1            []                False     False             [deleted]   \n",
       "2            []                False     False             Soliastro   \n",
       "3            []                False     False        Walden_Schmidt   \n",
       "4            []                False     False  Mammoth_Lifeguard_57   \n",
       "\n",
       "   author_created_utc author_flair_background_color author_flair_css_class  \\\n",
       "0                 NaN                                                 None   \n",
       "1                 NaN                                                 None   \n",
       "2        1.578060e+09                          None                   None   \n",
       "3        1.648920e+09                          None                   None   \n",
       "4        1.653326e+09                          None                   None   \n",
       "\n",
       "  author_flair_template_id author_flair_text author_flair_text_color  ...  \\\n",
       "0                     None              None                    dark  ...   \n",
       "1                     None              None                    dark  ...   \n",
       "2                     None              None                    None  ...   \n",
       "3                     None              None                    None  ...   \n",
       "4                     None              None                    None  ...   \n",
       "\n",
       "  author_fullname author_patreon_flair  author_premium  post_hint preview  \\\n",
       "0             NaN                  NaN             NaN        NaN     NaN   \n",
       "1             NaN                  NaN             NaN        NaN     NaN   \n",
       "2     t2_5d0qj1f3                False           False        NaN     NaN   \n",
       "3     t2_lg91j5ak                False           False        NaN     NaN   \n",
       "4     t2_njc2v380                False           False        NaN     NaN   \n",
       "\n",
       "  gallery_data  is_gallery  media_metadata author_cakeday call_to_action  \n",
       "0          NaN         NaN             NaN            NaN            NaN  \n",
       "1          NaN         NaN             NaN            NaN            NaN  \n",
       "2          NaN         NaN             NaN            NaN            NaN  \n",
       "3          NaN         NaN             NaN            NaN            NaN  \n",
       "4          NaN         NaN             NaN            NaN            NaN  \n",
       "\n",
       "[5 rows x 97 columns]"
      ]
     },
     "execution_count": 4,
     "metadata": {},
     "output_type": "execute_result"
    }
   ],
   "source": [
    "print(\"Submissions Keys:\\n\")\n",
    "print(submissions_df.columns.tolist())\n",
    "print(\"Submissions Sample:\\n\")\n",
    "submissions_df.head()"
   ]
  },
  {
   "cell_type": "markdown",
   "id": "955d7c44d0b45f9b",
   "metadata": {},
   "source": [
    "From the inspection we can see that:\n",
    "1. The dataset contains 64271 comments\n",
    "2. The dataset contains 8058 submissions\n",
    "3. The relevant keys in the comments include {'id', 'author', 'link_id', 'parent_id', 'created_utc', 'body', 'score'}\n",
    "4. The relevant keys in the submissions include {'title', 'selftext', 'created_utc', 'url', 'score', 'num_comments'}"
   ]
  },
  {
   "cell_type": "markdown",
   "id": "d70d79a4f42ab7a",
   "metadata": {},
   "source": [
    "# PREPROCESSING"
   ]
  },
  {
   "cell_type": "markdown",
   "id": "410f76f15c0f05cf",
   "metadata": {},
   "source": [
    "Given the raw comments and submissions, the following preprocessing steps are applied:\n",
    "1. Only the relevant keys for the comments and submissions are retained\n",
    "2. Any rows with '[deleted]' or '[removed]' in text fields is removed\n",
    "3. Timestamps are converted to datetime format for potentially analysing temporal behaviour\n",
    "4. Preparation and Loading Dataset\n",
    "5. Regular Expression Analysis: Store url domains that mention software related terms for RQ1\n",
    "6. Text Preprocessing: Expanding contractions, case folding, removing links, removing punctuation, removing extra whitespaces, tokenization, lemmatization "
   ]
  },
  {
   "cell_type": "markdown",
   "id": "3896c726791f6c94",
   "metadata": {},
   "source": [
    "## Retaining Relevant Keys"
   ]
  },
  {
   "cell_type": "code",
   "execution_count": 5,
   "id": "6d502df69436a2fc",
   "metadata": {
    "ExecuteTime": {
     "end_time": "2025-01-08T23:06:28.616692Z",
     "start_time": "2025-01-08T23:06:28.525812Z"
    }
   },
   "outputs": [
    {
     "name": "stdout",
     "output_type": "stream",
     "text": [
      "Sanity Check\n",
      "Relevant keys for Comments:  Index(['id', 'author', 'link_id', 'parent_id', 'created_utc', 'body', 'score'], dtype='object')\n",
      "Relevant keys for Submissions:  Index(['title', 'selftext', 'created_utc', 'url', 'score', 'num_comments'], dtype='object')\n"
     ]
    }
   ],
   "source": [
    "from Preprocessing import retain_relevant_keys\n",
    "\n",
    "comments_df, submissions_df = retain_relevant_keys(comments_df, submissions_df)"
   ]
  },
  {
   "cell_type": "markdown",
   "id": "5aca30038ab6fe17",
   "metadata": {},
   "source": [
    "## Removing Deleted Text Fields"
   ]
  },
  {
   "cell_type": "code",
   "execution_count": 6,
   "id": "53a03a14474c7575",
   "metadata": {
    "ExecuteTime": {
     "end_time": "2025-01-08T23:06:31.153841Z",
     "start_time": "2025-01-08T23:06:28.617702Z"
    }
   },
   "outputs": [
    {
     "name": "stdout",
     "output_type": "stream",
     "text": [
      "Sanity Check\n",
      "Number of deleted comments after removal: 0\n",
      "Number of deleted submissions after removal: 0\n",
      "Number of comments after removal: 58807\n",
      "Number of submissions after removal: 683\n"
     ]
    }
   ],
   "source": [
    "from Preprocessing import remove_deleted_text_fields\n",
    "\n",
    "comments_df, submissions_df = remove_deleted_text_fields(comments_df, submissions_df)"
   ]
  },
  {
   "cell_type": "markdown",
   "id": "2c8898029342493f",
   "metadata": {},
   "source": [
    "Note: The number of submissions has reduced by more than 90%!!!"
   ]
  },
  {
   "cell_type": "markdown",
   "id": "d9974472cb52749b",
   "metadata": {},
   "source": [
    "## Convert UTC timestamps to datetime format"
   ]
  },
  {
   "cell_type": "code",
   "execution_count": 7,
   "id": "d95b3cdd7c3b1d52",
   "metadata": {
    "ExecuteTime": {
     "end_time": "2025-01-08T23:06:31.280655Z",
     "start_time": "2025-01-08T23:06:31.154841Z"
    }
   },
   "outputs": [],
   "source": [
    "from Preprocessing import convert_timestamps_to_datetime\n",
    "\n",
    "comments_df, submissions_df = convert_timestamps_to_datetime(comments_df, submissions_df)\n",
    "comments_df['created_utc'] = comments_df['created_utc'].astype(str)\n",
    "submissions_df['created_utc'] = submissions_df['created_utc'].astype(str)"
   ]
  },
  {
   "cell_type": "markdown",
   "id": "5976fb8b7e716f2e",
   "metadata": {},
   "source": [
    "Note: datetime format has been converted to string to ensure compatibility with json formatting."
   ]
  },
  {
   "cell_type": "markdown",
   "id": "c39263f02723a72a",
   "metadata": {},
   "source": [
    "## Preparation and Loading Dataset"
   ]
  },
  {
   "cell_type": "code",
   "execution_count": 8,
   "id": "a8a5410f8807f778",
   "metadata": {
    "ExecuteTime": {
     "end_time": "2025-01-08T23:06:31.467934Z",
     "start_time": "2025-01-08T23:06:31.282664Z"
    }
   },
   "outputs": [],
   "source": [
    "from HelperFunctions import load_reddit_data\n",
    "\n",
    "comments, submissions = load_reddit_data(comments_df, submissions_df)"
   ]
  },
  {
   "cell_type": "markdown",
   "id": "3b0f2b1e7f535e07",
   "metadata": {},
   "source": [
    "## Regular Expression Analysis: Store URLs that mention 'software' related terms for RQ1"
   ]
  },
  {
   "cell_type": "code",
   "execution_count": 9,
   "id": "2783a9e5c987dcc1",
   "metadata": {
    "ExecuteTime": {
     "end_time": "2025-01-08T23:06:31.820548Z",
     "start_time": "2025-01-08T23:06:31.468939Z"
    }
   },
   "outputs": [],
   "source": [
    "from HelperFunctions import search_pattern\n",
    "\n",
    "software_related_terms_regex = r'\\b[Aa]pps?\\b|\\b[Aa]pplications?\\b|\\b[Ss]oftware\\b|\\b[Pp]rograms?\\b|\\b[Pp]latforms?\\b|\\b[Tt]ools?\\b'\n",
    "\n",
    "comments_mentioning_software = search_pattern(software_related_terms_regex, comments['body'])\n",
    "submissions_mentioning_software = search_pattern(software_related_terms_regex, submissions['selftext'])"
   ]
  },
  {
   "cell_type": "code",
   "execution_count": 10,
   "id": "d1495dcb1e18668b",
   "metadata": {
    "ExecuteTime": {
     "end_time": "2025-01-08T23:06:31.839511Z",
     "start_time": "2025-01-08T23:06:31.822591Z"
    }
   },
   "outputs": [
    {
     "name": "stdout",
     "output_type": "stream",
     "text": [
      "Overall we find 639 URLs in the comments mentioning software\n",
      "Some examples below...\n",
      "['https://play.google.com/store/apps/details?id=com.waddensky.nightshift&amp;referrer=utm_source%3Dreddit%26utm_medium%3Dforum%26utm_campaign%3Dpost).', 'http://heavens-above.com/)']\n",
      "Overall we find 32 URLs in the submissions mentioning software\n",
      "Some examples below...\n",
      "['https://youtu.be/2xZgCVG_Bzk', 'https://youtu.be/fakankfe8co']\n"
     ]
    }
   ],
   "source": [
    "from HelperFunctions import extract_urls\n",
    "\n",
    "urls_in_comments_mentioning_software = extract_urls(comments_mentioning_software)\n",
    "urls_in_submissions_mentioning_software = extract_urls(submissions_mentioning_software)\n",
    "\n",
    "print(f\"Overall we find {len(urls_in_comments_mentioning_software)} URLs in the comments mentioning software\")\n",
    "print(\"Some examples below...\")\n",
    "print(urls_in_comments_mentioning_software[:2])\n",
    "\n",
    "print(f\"Overall we find {len(urls_in_submissions_mentioning_software)} URLs in the submissions mentioning software\")\n",
    "print(\"Some examples below...\")\n",
    "print(urls_in_submissions_mentioning_software[:2])"
   ]
  },
  {
   "cell_type": "code",
   "execution_count": 11,
   "id": "f32aba4fbc85a65c",
   "metadata": {
    "ExecuteTime": {
     "end_time": "2025-01-08T23:06:32.110537Z",
     "start_time": "2025-01-08T23:06:31.841524Z"
    }
   },
   "outputs": [
    {
     "name": "stdout",
     "output_type": "stream",
     "text": [
      "Most popular domains in comments mentioning software\n",
      "[('instagram.com', 43), ('wikipedia.org', 38), ('reddit.com', 36), ('imgur.com', 30), ('youtube.com', 29), ('nasa.gov', 27), ('stsci.edu', 24), ('google.com', 22), ('github.com', 22), ('youtu.be', 19), ('stellarium.org', 18), ('', 16), ('flickr.com', 12), ('lis.tn', 12), ('goo.gl', 10), ('amazon.com', 10), ('prabhuastrophotography.com', 10), ('astrobin.com', 9), ('skyandtelescope.org', 9), ('astrob.in', 8)]\n",
      "Most popular domains in submissions mentioning software\n",
      "[('youtu.be', 4), ('github.com', 4), ('redd.it', 4), ('nasa.gov', 3), ('imgur.com', 2), ('reddit.com', 1), ('pinimg.com', 1), ('shopify.com', 1), ('instructables.com', 1), ('office.com', 1), ('nsf.gov', 1), ('', 1), ('noaa.gov', 1), ('discoverhawaiiscience.com', 1), ('coursera.org', 1), ('ucsd.edu', 1), ('wikipedia.org', 1), ('xkcd.com', 1), ('mapthematics.com', 1), ('github.io', 1)]\n"
     ]
    }
   ],
   "source": [
    "from HelperFunctions import extract_domain\n",
    "from collections import Counter\n",
    "\n",
    "domains_in_comments_mentioning_software = [extract_domain(x) for x in urls_in_comments_mentioning_software]\n",
    "print(\"Most popular domains in comments mentioning software\")\n",
    "print(Counter(domains_in_comments_mentioning_software).most_common(20))\n",
    "\n",
    "domains_in_submissions_mentioning_software = [extract_domain(x) for x in urls_in_submissions_mentioning_software]\n",
    "print(\"Most popular domains in submissions mentioning software\")\n",
    "print(Counter(domains_in_submissions_mentioning_software).most_common(20))"
   ]
  },
  {
   "cell_type": "markdown",
   "id": "e90b0fd8b8c40f1",
   "metadata": {},
   "source": [
    "## Text Preprocessing"
   ]
  },
  {
   "cell_type": "markdown",
   "id": "71bd73998d90d30e",
   "metadata": {},
   "source": [
    "### Obtaining sentences and words in the reddit comments\n",
    "\n",
    "The sentences for each comment are stored in comments['sentences'] (type: list)\n",
    "\n",
    "The words for each comment are stored in comments['words'] (type: list)\n",
    "\n",
    "All the sentences present in the reddit comments is stored in *all_comments_sentences*\n",
    "\n",
    "All the words present in the reddit comments is stored in *all_comments_words*"
   ]
  },
  {
   "cell_type": "code",
   "execution_count": 12,
   "id": "375ba6b3f06003b7",
   "metadata": {
    "ExecuteTime": {
     "end_time": "2025-01-08T23:07:03.782485Z",
     "start_time": "2025-01-08T23:06:32.112560Z"
    }
   },
   "outputs": [],
   "source": [
    "from Preprocessing import preprocess_text\n",
    "\n",
    "comments['sentences'] = []\n",
    "comments['words'] = []\n",
    "all_comments_sentences = []\n",
    "all_comments_words = []\n",
    "\n",
    "for i in range(len(comments['body'])):\n",
    "    sentences, words = preprocess_text(comments['body'][i])\n",
    "    comments['sentences'].append(sentences)\n",
    "    comments['words'].append(words)\n",
    "    all_comments_sentences.extend(sentences)\n",
    "    all_comments_words.extend(words)"
   ]
  },
  {
   "cell_type": "markdown",
   "id": "2e484eb87c45ba99",
   "metadata": {},
   "source": [
    "### Obtaining sentences and words in the reddit submissions\n",
    "\n",
    "The sentences for each submission are stored in submissions['sentences'] (type: list)\n",
    "\n",
    "The words for each submission are stored in submission['words'] (type: list)\n",
    "\n",
    "All the sentences present in the reddit submissions is stored in *all_submissions_sentences*\n",
    "\n",
    "All the words present in the reddit submissions is stored in *all_submissions_words*"
   ]
  },
  {
   "cell_type": "code",
   "execution_count": 13,
   "id": "8ed11de864539a65",
   "metadata": {
    "ExecuteTime": {
     "end_time": "2025-01-08T23:07:04.437621Z",
     "start_time": "2025-01-08T23:07:03.783498Z"
    }
   },
   "outputs": [],
   "source": [
    "from Preprocessing import preprocess_text\n",
    "\n",
    "submissions['sentences'] = []\n",
    "submissions['words'] = []\n",
    "all_submissions_sentences = []\n",
    "all_submissions_words = []\n",
    "\n",
    "for i in range(len(submissions['selftext'])):\n",
    "    sentences, words = preprocess_text(submissions['selftext'][i])\n",
    "    submissions['sentences'].append(sentences)\n",
    "    submissions['words'].append(words)\n",
    "    all_submissions_sentences.extend(sentences)\n",
    "    all_submissions_words.extend(words)"
   ]
  },
  {
   "cell_type": "markdown",
   "id": "494795d74306afc6",
   "metadata": {},
   "source": [
    "### Concatenating comments and submissions  "
   ]
  },
  {
   "cell_type": "code",
   "execution_count": 14,
   "id": "5d54117be971c62f",
   "metadata": {
    "ExecuteTime": {
     "end_time": "2025-01-08T23:07:04.466194Z",
     "start_time": "2025-01-08T23:07:04.438620Z"
    }
   },
   "outputs": [
    {
     "name": "stdout",
     "output_type": "stream",
     "text": [
      "The total number of sentences and words in the entire reddit dataset is 127327 and 840347 respectively\n",
      "The total number of sentences and words in the reddit comments is 123835 and 808076 respectively\n",
      "The total number of sentences and words in the reddit submissions is 3492 and 32271 respectively\n"
     ]
    }
   ],
   "source": [
    "all_sentences = all_comments_sentences + all_submissions_sentences\n",
    "all_words = all_comments_words + all_submissions_words\n",
    "print(f\"The total number of sentences and words in the entire reddit dataset is {len(all_sentences)} and {len(all_words)} respectively\")\n",
    "print(f\"The total number of sentences and words in the reddit comments is {len(all_comments_sentences)} and {len(all_comments_words)} respectively\")\n",
    "print(f\"The total number of sentences and words in the reddit submissions is {len(all_submissions_sentences)} and {len(all_submissions_words)} respectively\")"
   ]
  },
  {
   "cell_type": "markdown",
   "id": "c1ff756c2bbe7254",
   "metadata": {},
   "source": [
    "## Saving sentences and words in text files"
   ]
  },
  {
   "cell_type": "code",
   "execution_count": 15,
   "id": "8e8ee45c36094703",
   "metadata": {
    "ExecuteTime": {
     "end_time": "2025-01-08T23:07:07.190808Z",
     "start_time": "2025-01-08T23:07:04.468167Z"
    }
   },
   "outputs": [],
   "source": [
    "from HelperFunctions import save_comments_to_json, save_submissions_to_json\n",
    "\n",
    "save_comments_to_json(comments, \"preprocessed_comments_json_format.ndjson\")\n",
    "save_submissions_to_json(submissions, \"preprocessed_submissions_json_format.ndjson\")"
   ]
  },
  {
   "cell_type": "code",
   "execution_count": 16,
   "id": "9c97c6bd04ebd17",
   "metadata": {
    "ExecuteTime": {
     "end_time": "2025-01-08T23:07:07.895950Z",
     "start_time": "2025-01-08T23:07:07.191856Z"
    }
   },
   "outputs": [],
   "source": [
    "from HelperFunctions import write_to_text_file\n",
    "\n",
    "write_to_text_file(all_comments_sentences, \"preprocessed_comments_sentences\")\n",
    "write_to_text_file(all_comments_words, \"preprocessed_comments_words\")\n",
    "write_to_text_file(all_submissions_sentences, \"preprocessed_submissions_sentences\")\n",
    "write_to_text_file(all_submissions_words, \"preprocessed_submissions_words\")"
   ]
  },
  {
   "cell_type": "markdown",
   "id": "c07da65e",
   "metadata": {},
   "source": [
    "# RQ1: Most Valued Features/Functionalities in Astronomy Apps/Software"
   ]
  },
  {
   "cell_type": "code",
   "execution_count": 5,
   "id": "8a676d15",
   "metadata": {},
   "outputs": [
    {
     "name": "stdout",
     "output_type": "stream",
     "text": [
      " sky mapping : Average Compound Score = 0.83915\n",
      " assistance : Average Compound Score = 0.8277142857142857\n",
      " telescope control : Average Compound Score = 0.7845\n",
      " ar/augmented reality : Average Compound Score = 0.6704416666666667\n",
      " satellite tracking : Average Compound Score = 0.60755\n",
      " light pollution map : Average Compound Score = 0.5910000000000001\n",
      " skyview : Average Compound Score = 0.5503810810810811\n",
      " night sky : Average Compound Score = 0.5334178913738024\n",
      " night mode : Average Compound Score = 0.5250785714285715\n",
      " star walk : Average Compound Score = 0.5077176470588236\n",
      " skysafari : Average Compound Score = 0.44581\n",
      " stellarium : Average Compound Score = 0.40970977777777745\n",
      " time travel : Average Compound Score = 0.3255\n",
      " vr/virtual reality : Average Compound Score = 0.28896153846153855\n",
      " skyguide : Average Compound Score = 0.27842\n",
      " star identification : Average Compound Score = 0\n",
      " 3d view : Average Compound Score = 0.0\n",
      " meteor shower prediction : Average Compound Score = 0\n",
      " observation logs : Average Compound Score = 0\n",
      " augmented space probes : Average Compound Score = 0\n",
      " custom overlays : Average Compound Score = 0\n"
     ]
    },
    {
     "data": {
      "image/png": "[encoded data removed]",
      "text/plain": [
       "<Figure size 1000x600 with 1 Axes>"
      ]
     },
     "metadata": {},
     "output_type": "display_data"
    },
    {
     "data": {
      "image/png": "[encoded data removed]",
      "text/plain": [
       "<Figure size 1000x600 with 1 Axes>"
      ]
     },
     "metadata": {},
     "output_type": "display_data"
    }
   ],
   "source": [
    "from HelperFunctions import open_preprocessed_comments_json, open_comments_entry_id, sentiment_analysis, check_features, calculate_average_compound_scores, sort_avg_compound_scores, plot_avg_compound_scores, plot_feature_mentions\n",
    "\n",
    "\n",
    "keywords = [\" sky mapping \", \" star identification \", \" augmented reality \", \" ar \", \" vr \", \" virtual reality \", \" 3d view \",\n",
    "             \" time travel \", \" night mode \", \" satellite tracking \", \" meteor shower prediction \", \" light pollution map \",\n",
    "             \" telescope control \",  \" assistance \", \" observation logs \", \" augmented space probes \",\n",
    "             \" custom overlays \", \" skysafari \", \" star walk \", \" skyview \", \" skyguide \", \" stellarium \", \" night sky \"]\n",
    "\n",
    "processed_comments = open_preprocessed_comments_json()\n",
    "not_processed_comments = open_comments_entry_id()\n",
    "\n",
    "vs_id_dict = sentiment_analysis(not_processed_comments)\n",
    "feature_mentions = check_features(processed_comments, keywords)\n",
    "keyword_avg_compound_scores = calculate_average_compound_scores(processed_comments, keywords, vs_id_dict, feature_mentions)\n",
    "\n",
    "sorted_avg_compound_scores = sort_avg_compound_scores(keyword_avg_compound_scores, print_scores=False)\n",
    "\n",
    "plot_feature_mentions(feature_mentions)\n",
    "plot_avg_compound_scores(sorted_avg_compound_scores)\n"
   ]
  },
  {
   "cell_type": "markdown",
   "id": "0516fb41",
   "metadata": {},
   "source": [
    "# RQ2: Most Desired Hardware Specifications "
   ]
  },
  {
   "cell_type": "markdown",
   "id": "1091e79f",
   "metadata": {},
   "source": [
    "# RQ3: Recommended Locations for Astrophotography"
   ]
  },
  {
   "cell_type": "code",
   "execution_count": 4,
   "id": "e975f638",
   "metadata": {},
   "outputs": [],
   "source": [
    "from transformers import AutoTokenizer, AutoModelForTokenClassification,AutoModelForCausalLM\n",
    "from transformers import pipeline\n",
    "import torch\n",
    "from spacy.training import Example\n",
    "import spacy\n",
    "from collections import Counter\n",
    "from nltk.util import ngrams\n",
    "from spacy.pipeline import EntityRuler\n",
    "import pandas as pd"
   ]
  },
  {
   "cell_type": "code",
   "execution_count": 9,
   "id": "2c89b3ae",
   "metadata": {},
   "outputs": [],
   "source": [
    "import random\n",
    "class AstroNERDataset:\n",
    "    def __init__(self):\n",
    "        self.templates = [\n",
    "            \"Astrophotographers often visit {location} to capture images of {astro_object}.\",\n",
    "            \"The {astro_object} appears exceptionally bright when viewed from {location}.\",\n",
    "            \"During certain seasons, {astro_object} is best observed from {location}.\",\n",
    "            \"Many stargazers prefer {location} for its clear views of {astro_object}.\",\n",
    "            \"{location} provides an unobstructed horizon for photographing {astro_object}.\",\n",
    "            \"The altitude of {location} makes it ideal for observing {astro_object}.\",\n",
    "            \"Photographers set up telescopes at {location} to capture {astro_object}.\",\n",
    "            \"The lack of light pollution at {location} enhances views of {astro_object}.\",\n",
    "            \"Guided tours at {location} offer night sky observations of {astro_object}.\",\n",
    "            \"The {astro_object} was clearly visible above the horizon at {location}.\",\n",
    "            \"Astro enthusiasts recommend {location} for its dark skies and view of {astro_object}.\",\n",
    "            \"The remote location of {location} makes it perfect for {astro_object} photography.\",\n",
    "            \"Star parties at {location} often focus on observing {astro_object}.\",\n",
    "            \"The clear atmosphere at {location} provides stunning views of {astro_object}.\",\n",
    "            \"From {location}, the {astro_object} can be seen with the naked eye.\",\n",
    "            \"The observatory at {location} offers public viewing nights for {astro_object}.\",\n",
    "            \"Camping at {location} allows for overnight observation of {astro_object}.\",\n",
    "            \"The {astro_object} rises early in the morning as seen from {location}.\",\n",
    "            \"Astrophotography workshops at {location} teach how to capture {astro_object}.\",\n",
    "            '{location} is the number 1 spot for {astro_object} viewing.',\n",
    "        ]\n",
    "\n",
    "        self.locations = [\n",
    "            \"Mauna Kea\", \"Atacama\", \"Atacama Desert\", \"Mauna Loa\", \"Death Valley\", \n",
    "            \"Mont Mégantic\", \"Pic du Midi\", \"Lake Tekapo\", \"Okavango Delta\", \n",
    "            \"Himalayas\", \"Cerro Paranal\", \"Uluru\", \"Big Bend National Park\", \n",
    "            \"Lick Observatory\", \"Lowell Observatory\", \"Meteora in Greece\", \n",
    "            \"Arcetri Astrophysical Observatory\", \"Kitt Peak\"\n",
    "        ]\n",
    "        self.locations = [location.lower() for location in self.locations]\n",
    "\n",
    "        self.astro_objects = [\n",
    "            \"Milky Way\", \"Andromeda Galaxy\", \"Orion Nebula\", \"Pleiades Star Cluster\", \n",
    "            \"Saturn's Rings\", \"Halley's Comet\", \"Perseid Meteor Shower\", \"Aurora Borealis\", \n",
    "            \"Venus\", \"Mars\", \"Supernova Remnant\", \"Black Hole\", \n",
    "            \"Exoplanet Kepler-22b\", \"Horsehead Nebula\", \"Crab Nebula\", \"Betelgeuse\", \n",
    "            \"Sirius\", \"Alpha Centauri\"\n",
    "        ]\n",
    "        self.astro_objects = [astro_object.lower() for astro_object in self.astro_objects]\n",
    "\n",
    "    def generate_example(self):\n",
    "        template = random.choice(self.templates)\n",
    "        location = random.choice(self.locations)\n",
    "        astro_object = random.choice(self.astro_objects)\n",
    "        \n",
    "        sentence = template.format(location=location, astro_object=astro_object)\n",
    "        \n",
    "        location_start = sentence.find(location)\n",
    "        location_end = location_start + len(location)\n",
    "        \n",
    "        Obj_start = sentence.find(astro_object)\n",
    "        Obj_end = Obj_start + len(astro_object) if Obj_start != -1 else -1\n",
    "        \n",
    "        if Obj_start == -1:\n",
    "            print(f\"Error: {astro_object} not found in the sentence: {sentence}\")\n",
    "        \n",
    "        return (sentence, {\"entities\": [(location_start, location_end, \"LOC\"), (Obj_start, Obj_end, \"Astro_Obj\")]} if Obj_start != -1 else None)\n",
    "\n",
    "    def generate_dataset(self, size=500):\n",
    "        \"\"\"Generates a dataset with the specified number of examples.\"\"\"\n",
    "        dataset = [self.generate_example() for _ in range(size)]\n",
    "        return dataset"
   ]
  },
  {
   "cell_type": "code",
   "execution_count": 14,
   "id": "fd73aa7b",
   "metadata": {},
   "outputs": [
    {
     "ename": "ImportError",
     "evalue": "cannot import name 'fine_tune' from 'HelperFunctions' (c:\\Users\\toma\\Documents\\GitHub\\NLP-Astronomy\\HelperFunctions.py)",
     "output_type": "error",
     "traceback": [
      "\u001b[1;31m---------------------------------------------------------------------------\u001b[0m",
      "\u001b[1;31mImportError\u001b[0m                               Traceback (most recent call last)",
      "Cell \u001b[1;32mIn[14], line 1\u001b[0m\n\u001b[1;32m----> 1\u001b[0m \u001b[38;5;28;01mfrom\u001b[39;00m \u001b[38;5;21;01mHelperFunctions\u001b[39;00m \u001b[38;5;28;01mimport\u001b[39;00m fine_tune, get_locations, process_file_s, iterative_location_extraction, plot_top_locations\n\u001b[0;32m      3\u001b[0m astro_dataset \u001b[38;5;241m=\u001b[39m AstroNERDataset() \u001b[38;5;66;03m#custom dataset class to fine tune the model\u001b[39;00m\n\u001b[0;32m      4\u001b[0m train_data \u001b[38;5;241m=\u001b[39m astro_dataset\u001b[38;5;241m.\u001b[39mgenerate_dataset(size\u001b[38;5;241m=\u001b[39m\u001b[38;5;241m500\u001b[39m)\n",
      "\u001b[1;31mImportError\u001b[0m: cannot import name 'fine_tune' from 'HelperFunctions' (c:\\Users\\toma\\Documents\\GitHub\\NLP-Astronomy\\HelperFunctions.py)"
     ]
    }
   ],
   "source": [
    "from HelperFunctions import fine_tune, get_locations, process_file_s, iterative_location_extraction, plot_top_locations\n",
    "\n",
    "astro_dataset = AstroNERDataset() #custom dataset class to fine tune the model\n",
    "train_data = astro_dataset.generate_dataset(size=500)\n",
    "\n",
    "#loading the model\n",
    "model = spacy.load(\"en_core_web_sm\")\n",
    "ner = model.get_pipe(\"ner\")\n",
    "\n",
    "#customization of the labellings for the model\n",
    "ner.add_label(\"Astro_Obj\") \n",
    "ruler = model.add_pipe(\"entity_ruler\", before=\"ner\")\n",
    "patterns = [{\"label\": \"LOC\", \"pattern\": \"atacama\"},{\"label\": \"Astro_Obj\", \"pattern\": \"the moon\"},{\"label\": \"Astro_Obj\", \"pattern\": \"jupiter\"},{\"label\": \"Astro_Obj\", \"pattern\": \"earth\"}]\n",
    "ruler.add_patterns(patterns)\n",
    "\n",
    "#training the model\n",
    "fine_tune(model,train_data)\n",
    "\n",
    "#finding the most frequent locations\n",
    "rec_loc_s0 = process_file_s(\"preprocessed_comments_sentences\", model)\n",
    "final_locations = iterative_location_extraction(model, rec_loc_s0, iterations=4)\n",
    "\n",
    "#plotting the most frequent locations\n",
    "plot_top_locations(final_locations, top=5)"
   ]
  },
  {
   "cell_type": "code",
   "execution_count": null,
   "id": "84b49df3",
   "metadata": {},
   "outputs": [],
   "source": []
  }
 ],
 "metadata": {
  "kernelspec": {
   "display_name": "nb2214-2023",
   "language": "python",
   "name": "python3"
  },
  "language_info": {
   "codemirror_mode": {
    "name": "ipython",
    "version": 3
   },
   "file_extension": ".py",
   "mimetype": "text/x-python",
   "name": "python",
   "nbconvert_exporter": "python",
   "pygments_lexer": "ipython3",
   "version": "3.10.12"
  }
 },
 "nbformat": 4,
 "nbformat_minor": 5
}
